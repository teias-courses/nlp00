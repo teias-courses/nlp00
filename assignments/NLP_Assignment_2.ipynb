{
  "nbformat": 4,
  "nbformat_minor": 0,
  "metadata": {
    "colab": {
      "name": "NLP_Assignment_2_RNN_Attention.ipynb",
      "provenance": [],
      "toc_visible": true
    },
    "kernelspec": {
      "name": "python3",
      "display_name": "Python 3"
    },
    "language_info": {
      "name": "python"
    },
    "accelerator": "GPU"
  },
  "cells": [
    {
      "cell_type": "markdown",
      "source": [
        "# Homework 2\n",
        "\n",
        "**Due date: Thursday, Ordibehesht 8th, 23:59**\n",
        "\n",
        "In this homework, We are going to work with different kinds of Recurrent Neural Networks as well as Attention mechanisms. You are expected to implement your own recurrent neural network models. However, there is a single rule in this homework. \n",
        "\n",
        "Each subsequent model must outperform the previous model. For example, the model that you are going to implement in section 2, must outperform the model that you have implemented in section 1.\n",
        "\n",
        "You are free to discuss the problems and ways to approach them with your classmates, but be sure to not cheat. **Cheating will not be tolerated.**\n",
        "\n",
        "This code requires some of the dependencies of the COLAB platform, you are free to use any other platform that supports jupyter notebooks, but there is no guarantee that the code snippets will work in your setting without some modifications. "
      ],
      "metadata": {
        "id": "0Fp3R2ICNTkT"
      }
    },
    {
      "cell_type": "markdown",
      "source": [
        "## Import the Required Libraries\n",
        "\n",
        "Feel free to use any other library to your heart's content (unless specified by the question), but give a link to its documentations if it is not a well known one."
      ],
      "metadata": {
        "id": "Vis0w0GXB0Mt"
      }
    },
    {
      "cell_type": "code",
      "execution_count": null,
      "metadata": {
        "id": "fMxAtOtDAm5V"
      },
      "outputs": [],
      "source": [
        "import nltk \n",
        "import sklearn as sk\n",
        "import numpy as np\n",
        "import pandas as pd \n",
        "import tensorflow as tf\n",
        "from IPython.display import clear_output"
      ]
    },
    {
      "cell_type": "markdown",
      "source": [
        "## Get the Data Ready\n",
        "\n",
        "For this task, we are going to use the Stanford SNLI dataset. This is a natural language inference task. The model is provided with two inputs, a text, and a hypothesis. The model must determine if hypothesis contradicts the text, if it is a entailment of the text, or if it is neutral with respect to the text. Thus this is a classification task. \n",
        "\n",
        "For more information, check the link below: \n",
        "\n",
        "[SNLI Dataset](https://nlp.stanford.edu/projects/snli/)\n",
        "\n",
        "Lets start by downloading the dataset."
      ],
      "metadata": {
        "id": "2fYtNCRjOMiR"
      }
    },
    {
      "cell_type": "code",
      "source": [
        "!wget https://nlp.stanford.edu/projects/snli/snli_1.0.zip\n",
        "!unzip snli_1.0.zip\n",
        "clear_output()"
      ],
      "metadata": {
        "id": "fNwP7ERXPO1J"
      },
      "execution_count": null,
      "outputs": []
    },
    {
      "cell_type": "markdown",
      "source": [
        "Run the cell below to prepare the data as a pandas dataframe. and take an initial look at the data."
      ],
      "metadata": {
        "id": "JBUk0Gn6RauZ"
      }
    },
    {
      "cell_type": "code",
      "source": [
        "data_train = pd.read_csv('/content/snli_1.0/snli_1.0_train.txt', encoding = \"ISO-8859-1\",sep='\\t')\n",
        "data_val = pd.read_csv('/content/snli_1.0/snli_1.0_dev.txt', encoding = \"ISO-8859-1\",sep='\\t')\n",
        "data_test = pd.read_csv('/content/snli_1.0/snli_1.0_test.txt', encoding = \"ISO-8859-1\",sep='\\t')"
      ],
      "metadata": {
        "id": "drg1bIuORbk4"
      },
      "execution_count": null,
      "outputs": []
    },
    {
      "cell_type": "code",
      "source": [
        "data_val.head(5)"
      ],
      "metadata": {
        "colab": {
          "base_uri": "https://localhost:8080/",
          "height": 670
        },
        "id": "ToiYzm2mS9pC",
        "outputId": "9995682f-214f-40a9-9028-0ac11dc61821"
      },
      "execution_count": null,
      "outputs": [
        {
          "output_type": "execute_result",
          "data": {
            "text/plain": [
              "      gold_label                             sentence1_binary_parse  \\\n",
              "0        neutral  ( ( Two women ) ( ( are ( embracing ( while ( ...   \n",
              "1     entailment  ( ( Two women ) ( ( are ( embracing ( while ( ...   \n",
              "2  contradiction  ( ( Two women ) ( ( are ( embracing ( while ( ...   \n",
              "3     entailment  ( ( ( Two ( young children ) ) ( in ( ( ( ( ( ...   \n",
              "4        neutral  ( ( ( Two ( young children ) ) ( in ( ( ( ( ( ...   \n",
              "\n",
              "                              sentence2_binary_parse  \\\n",
              "0  ( ( The sisters ) ( ( are ( ( hugging goodbye ...   \n",
              "1  ( ( Two woman ) ( ( are ( holding packages ) )...   \n",
              "2  ( ( The men ) ( ( are ( fighting ( outside ( a...   \n",
              "3  ( ( ( Two kids ) ( in ( numbered jerseys ) ) )...   \n",
              "4  ( ( ( Two kids ) ( at ( a ballgame ) ) ) ( ( w...   \n",
              "\n",
              "                                     sentence1_parse  \\\n",
              "0  (ROOT (S (NP (CD Two) (NNS women)) (VP (VBP ar...   \n",
              "1  (ROOT (S (NP (CD Two) (NNS women)) (VP (VBP ar...   \n",
              "2  (ROOT (S (NP (CD Two) (NNS women)) (VP (VBP ar...   \n",
              "3  (ROOT (S (NP (NP (CD Two) (JJ young) (NNS chil...   \n",
              "4  (ROOT (S (NP (NP (CD Two) (JJ young) (NNS chil...   \n",
              "\n",
              "                                     sentence2_parse  \\\n",
              "0  (ROOT (S (NP (DT The) (NNS sisters)) (VP (VBP ...   \n",
              "1  (ROOT (S (NP (CD Two) (NN woman)) (VP (VBP are...   \n",
              "2  (ROOT (S (NP (DT The) (NNS men)) (VP (VBP are)...   \n",
              "3  (ROOT (S (NP (NP (CD Two) (NNS kids)) (PP (IN ...   \n",
              "4  (ROOT (S (NP (NP (CD Two) (NNS kids)) (PP (IN ...   \n",
              "\n",
              "                                           sentence1  \\\n",
              "0  Two women are embracing while holding to go pa...   \n",
              "1  Two women are embracing while holding to go pa...   \n",
              "2  Two women are embracing while holding to go pa...   \n",
              "3  Two young children in blue jerseys, one with t...   \n",
              "4  Two young children in blue jerseys, one with t...   \n",
              "\n",
              "                                           sentence2         captionID  \\\n",
              "0  The sisters are hugging goodbye while holding ...  4705552913.jpg#2   \n",
              "1                    Two woman are holding packages.  4705552913.jpg#2   \n",
              "2               The men are fighting outside a deli.  4705552913.jpg#2   \n",
              "3     Two kids in numbered jerseys wash their hands.  2407214681.jpg#0   \n",
              "4           Two kids at a ballgame wash their hands.  2407214681.jpg#0   \n",
              "\n",
              "                pairID         label1         label2         label3  \\\n",
              "0  4705552913.jpg#2r1n        neutral     entailment        neutral   \n",
              "1  4705552913.jpg#2r1e     entailment     entailment     entailment   \n",
              "2  4705552913.jpg#2r1c  contradiction  contradiction  contradiction   \n",
              "3  2407214681.jpg#0r1e     entailment     entailment     entailment   \n",
              "4  2407214681.jpg#0r1n        neutral        neutral        neutral   \n",
              "\n",
              "          label4         label5  \n",
              "0        neutral        neutral  \n",
              "1     entailment     entailment  \n",
              "2  contradiction  contradiction  \n",
              "3     entailment     entailment  \n",
              "4     entailment     entailment  "
            ],
            "text/html": [
              "\n",
              "  <div id=\"df-d4a0e6bd-62bf-403f-8ea3-1b3eae35479b\">\n",
              "    <div class=\"colab-df-container\">\n",
              "      <div>\n",
              "<style scoped>\n",
              "    .dataframe tbody tr th:only-of-type {\n",
              "        vertical-align: middle;\n",
              "    }\n",
              "\n",
              "    .dataframe tbody tr th {\n",
              "        vertical-align: top;\n",
              "    }\n",
              "\n",
              "    .dataframe thead th {\n",
              "        text-align: right;\n",
              "    }\n",
              "</style>\n",
              "<table border=\"1\" class=\"dataframe\">\n",
              "  <thead>\n",
              "    <tr style=\"text-align: right;\">\n",
              "      <th></th>\n",
              "      <th>gold_label</th>\n",
              "      <th>sentence1_binary_parse</th>\n",
              "      <th>sentence2_binary_parse</th>\n",
              "      <th>sentence1_parse</th>\n",
              "      <th>sentence2_parse</th>\n",
              "      <th>sentence1</th>\n",
              "      <th>sentence2</th>\n",
              "      <th>captionID</th>\n",
              "      <th>pairID</th>\n",
              "      <th>label1</th>\n",
              "      <th>label2</th>\n",
              "      <th>label3</th>\n",
              "      <th>label4</th>\n",
              "      <th>label5</th>\n",
              "    </tr>\n",
              "  </thead>\n",
              "  <tbody>\n",
              "    <tr>\n",
              "      <th>0</th>\n",
              "      <td>neutral</td>\n",
              "      <td>( ( Two women ) ( ( are ( embracing ( while ( ...</td>\n",
              "      <td>( ( The sisters ) ( ( are ( ( hugging goodbye ...</td>\n",
              "      <td>(ROOT (S (NP (CD Two) (NNS women)) (VP (VBP ar...</td>\n",
              "      <td>(ROOT (S (NP (DT The) (NNS sisters)) (VP (VBP ...</td>\n",
              "      <td>Two women are embracing while holding to go pa...</td>\n",
              "      <td>The sisters are hugging goodbye while holding ...</td>\n",
              "      <td>4705552913.jpg#2</td>\n",
              "      <td>4705552913.jpg#2r1n</td>\n",
              "      <td>neutral</td>\n",
              "      <td>entailment</td>\n",
              "      <td>neutral</td>\n",
              "      <td>neutral</td>\n",
              "      <td>neutral</td>\n",
              "    </tr>\n",
              "    <tr>\n",
              "      <th>1</th>\n",
              "      <td>entailment</td>\n",
              "      <td>( ( Two women ) ( ( are ( embracing ( while ( ...</td>\n",
              "      <td>( ( Two woman ) ( ( are ( holding packages ) )...</td>\n",
              "      <td>(ROOT (S (NP (CD Two) (NNS women)) (VP (VBP ar...</td>\n",
              "      <td>(ROOT (S (NP (CD Two) (NN woman)) (VP (VBP are...</td>\n",
              "      <td>Two women are embracing while holding to go pa...</td>\n",
              "      <td>Two woman are holding packages.</td>\n",
              "      <td>4705552913.jpg#2</td>\n",
              "      <td>4705552913.jpg#2r1e</td>\n",
              "      <td>entailment</td>\n",
              "      <td>entailment</td>\n",
              "      <td>entailment</td>\n",
              "      <td>entailment</td>\n",
              "      <td>entailment</td>\n",
              "    </tr>\n",
              "    <tr>\n",
              "      <th>2</th>\n",
              "      <td>contradiction</td>\n",
              "      <td>( ( Two women ) ( ( are ( embracing ( while ( ...</td>\n",
              "      <td>( ( The men ) ( ( are ( fighting ( outside ( a...</td>\n",
              "      <td>(ROOT (S (NP (CD Two) (NNS women)) (VP (VBP ar...</td>\n",
              "      <td>(ROOT (S (NP (DT The) (NNS men)) (VP (VBP are)...</td>\n",
              "      <td>Two women are embracing while holding to go pa...</td>\n",
              "      <td>The men are fighting outside a deli.</td>\n",
              "      <td>4705552913.jpg#2</td>\n",
              "      <td>4705552913.jpg#2r1c</td>\n",
              "      <td>contradiction</td>\n",
              "      <td>contradiction</td>\n",
              "      <td>contradiction</td>\n",
              "      <td>contradiction</td>\n",
              "      <td>contradiction</td>\n",
              "    </tr>\n",
              "    <tr>\n",
              "      <th>3</th>\n",
              "      <td>entailment</td>\n",
              "      <td>( ( ( Two ( young children ) ) ( in ( ( ( ( ( ...</td>\n",
              "      <td>( ( ( Two kids ) ( in ( numbered jerseys ) ) )...</td>\n",
              "      <td>(ROOT (S (NP (NP (CD Two) (JJ young) (NNS chil...</td>\n",
              "      <td>(ROOT (S (NP (NP (CD Two) (NNS kids)) (PP (IN ...</td>\n",
              "      <td>Two young children in blue jerseys, one with t...</td>\n",
              "      <td>Two kids in numbered jerseys wash their hands.</td>\n",
              "      <td>2407214681.jpg#0</td>\n",
              "      <td>2407214681.jpg#0r1e</td>\n",
              "      <td>entailment</td>\n",
              "      <td>entailment</td>\n",
              "      <td>entailment</td>\n",
              "      <td>entailment</td>\n",
              "      <td>entailment</td>\n",
              "    </tr>\n",
              "    <tr>\n",
              "      <th>4</th>\n",
              "      <td>neutral</td>\n",
              "      <td>( ( ( Two ( young children ) ) ( in ( ( ( ( ( ...</td>\n",
              "      <td>( ( ( Two kids ) ( at ( a ballgame ) ) ) ( ( w...</td>\n",
              "      <td>(ROOT (S (NP (NP (CD Two) (JJ young) (NNS chil...</td>\n",
              "      <td>(ROOT (S (NP (NP (CD Two) (NNS kids)) (PP (IN ...</td>\n",
              "      <td>Two young children in blue jerseys, one with t...</td>\n",
              "      <td>Two kids at a ballgame wash their hands.</td>\n",
              "      <td>2407214681.jpg#0</td>\n",
              "      <td>2407214681.jpg#0r1n</td>\n",
              "      <td>neutral</td>\n",
              "      <td>neutral</td>\n",
              "      <td>neutral</td>\n",
              "      <td>entailment</td>\n",
              "      <td>entailment</td>\n",
              "    </tr>\n",
              "  </tbody>\n",
              "</table>\n",
              "</div>\n",
              "      <button class=\"colab-df-convert\" onclick=\"convertToInteractive('df-d4a0e6bd-62bf-403f-8ea3-1b3eae35479b')\"\n",
              "              title=\"Convert this dataframe to an interactive table.\"\n",
              "              style=\"display:none;\">\n",
              "        \n",
              "  <svg xmlns=\"http://www.w3.org/2000/svg\" height=\"24px\"viewBox=\"0 0 24 24\"\n",
              "       width=\"24px\">\n",
              "    <path d=\"M0 0h24v24H0V0z\" fill=\"none\"/>\n",
              "    <path d=\"M18.56 5.44l.94 2.06.94-2.06 2.06-.94-2.06-.94-.94-2.06-.94 2.06-2.06.94zm-11 1L8.5 8.5l.94-2.06 2.06-.94-2.06-.94L8.5 2.5l-.94 2.06-2.06.94zm10 10l.94 2.06.94-2.06 2.06-.94-2.06-.94-.94-2.06-.94 2.06-2.06.94z\"/><path d=\"M17.41 7.96l-1.37-1.37c-.4-.4-.92-.59-1.43-.59-.52 0-1.04.2-1.43.59L10.3 9.45l-7.72 7.72c-.78.78-.78 2.05 0 2.83L4 21.41c.39.39.9.59 1.41.59.51 0 1.02-.2 1.41-.59l7.78-7.78 2.81-2.81c.8-.78.8-2.07 0-2.86zM5.41 20L4 18.59l7.72-7.72 1.47 1.35L5.41 20z\"/>\n",
              "  </svg>\n",
              "      </button>\n",
              "      \n",
              "  <style>\n",
              "    .colab-df-container {\n",
              "      display:flex;\n",
              "      flex-wrap:wrap;\n",
              "      gap: 12px;\n",
              "    }\n",
              "\n",
              "    .colab-df-convert {\n",
              "      background-color: #E8F0FE;\n",
              "      border: none;\n",
              "      border-radius: 50%;\n",
              "      cursor: pointer;\n",
              "      display: none;\n",
              "      fill: #1967D2;\n",
              "      height: 32px;\n",
              "      padding: 0 0 0 0;\n",
              "      width: 32px;\n",
              "    }\n",
              "\n",
              "    .colab-df-convert:hover {\n",
              "      background-color: #E2EBFA;\n",
              "      box-shadow: 0px 1px 2px rgba(60, 64, 67, 0.3), 0px 1px 3px 1px rgba(60, 64, 67, 0.15);\n",
              "      fill: #174EA6;\n",
              "    }\n",
              "\n",
              "    [theme=dark] .colab-df-convert {\n",
              "      background-color: #3B4455;\n",
              "      fill: #D2E3FC;\n",
              "    }\n",
              "\n",
              "    [theme=dark] .colab-df-convert:hover {\n",
              "      background-color: #434B5C;\n",
              "      box-shadow: 0px 1px 3px 1px rgba(0, 0, 0, 0.15);\n",
              "      filter: drop-shadow(0px 1px 2px rgba(0, 0, 0, 0.3));\n",
              "      fill: #FFFFFF;\n",
              "    }\n",
              "  </style>\n",
              "\n",
              "      <script>\n",
              "        const buttonEl =\n",
              "          document.querySelector('#df-d4a0e6bd-62bf-403f-8ea3-1b3eae35479b button.colab-df-convert');\n",
              "        buttonEl.style.display =\n",
              "          google.colab.kernel.accessAllowed ? 'block' : 'none';\n",
              "\n",
              "        async function convertToInteractive(key) {\n",
              "          const element = document.querySelector('#df-d4a0e6bd-62bf-403f-8ea3-1b3eae35479b');\n",
              "          const dataTable =\n",
              "            await google.colab.kernel.invokeFunction('convertToInteractive',\n",
              "                                                     [key], {});\n",
              "          if (!dataTable) return;\n",
              "\n",
              "          const docLinkHtml = 'Like what you see? Visit the ' +\n",
              "            '<a target=\"_blank\" href=https://colab.research.google.com/notebooks/data_table.ipynb>data table notebook</a>'\n",
              "            + ' to learn more about interactive tables.';\n",
              "          element.innerHTML = '';\n",
              "          dataTable['output_type'] = 'display_data';\n",
              "          await google.colab.output.renderOutput(dataTable, element);\n",
              "          const docLink = document.createElement('div');\n",
              "          docLink.innerHTML = docLinkHtml;\n",
              "          element.appendChild(docLink);\n",
              "        }\n",
              "      </script>\n",
              "    </div>\n",
              "  </div>\n",
              "  "
            ]
          },
          "metadata": {},
          "execution_count": 5
        }
      ]
    },
    {
      "cell_type": "markdown",
      "source": [
        "Observe that some of the columns are not required for our task. Run the code below to drop these columns. We dont drop parsed columns because they might be useful in some more complex models."
      ],
      "metadata": {
        "id": "YzfXPlH-UKLR"
      }
    },
    {
      "cell_type": "code",
      "source": [
        "data_train.drop(['captionID','pairID','label1','label2','label3','label4','label5'], axis = 1, inplace = True)\n",
        "data_val.drop(['captionID','pairID','label1','label2','label3','label4','label5'], axis = 1, inplace = True)\n",
        "data_test.drop(['captionID','pairID','label1','label2','label3','label4','label5'], axis = 1, inplace = True)"
      ],
      "metadata": {
        "id": "12QjteSxUagw"
      },
      "execution_count": null,
      "outputs": []
    },
    {
      "cell_type": "markdown",
      "source": [
        "Additionally, obersve that our labels are in the string form. We need to convert them to integers. Run the code below to convert the labels to integer with the following convention. \n",
        "\n",
        "1 - Entailment = 0\n",
        "2 - Neutral = 1\n",
        "3 - Contradiction = 2"
      ],
      "metadata": {
        "id": "LMCb81AbdkBT"
      }
    },
    {
      "cell_type": "code",
      "source": [
        "map_dict = {'entailment':0,'neutral' : 1, 'contradiction' : 2}\n",
        "data_train['gold_label'] = data_train['gold_label'].map(map_dict)\n",
        "data_val['gold_label'] = data_val['gold_label'].map(map_dict)\n",
        "data_test['gold_label'] = data_test['gold_label'].map(map_dict)"
      ],
      "metadata": {
        "id": "brs97s7pd-tG"
      },
      "execution_count": null,
      "outputs": []
    },
    {
      "cell_type": "markdown",
      "source": [
        "Great, now that we have converted our labels to an integer form, we can run a simple cleaning function on our dataset. Note that the dataset itself is fairly clean (unlike the previous dataset in HW1). Thus we are only required to remove the stop words. \n",
        "Run the code below to do the cleaning by removing nan rows and cleaning the stopwords."
      ],
      "metadata": {
        "id": "y7bpFlYAeoDQ"
      }
    },
    {
      "cell_type": "code",
      "source": [
        "from nltk.corpus import stopwords\n",
        "import string\n",
        "nltk.download('stopwords')\n",
        "stop = stopwords.words('english')\n",
        "data_train = data_train.dropna(axis = 0)\n",
        "data_val = data_val.dropna(axis = 0)\n",
        "data_test = data_test.dropna(axis = 0)\n",
        "data_train['sentence1'] = data_train['sentence1'].apply(lambda x: ' '.join([word for word in x.split() if word not in (stop)]))\n",
        "data_train['sentence2'] = data_train['sentence2'].apply(lambda x: ' '.join([word for word in x.split() if word not in (stop)]))\n",
        "data_val['sentence1'] = data_val['sentence1'].apply(lambda x: ' '.join([word for word in x.split() if word not in (stop)]))\n",
        "data_val['sentence2'] = data_val['sentence2'].apply(lambda x: ' '.join([word for word in x.split() if word not in (stop)]))\n",
        "data_test['sentence1'] = data_test['sentence1'].apply(lambda x: ' '.join([word for word in x.split() if word not in (stop)]))\n",
        "data_test['sentence2'] = data_test['sentence2'].apply(lambda x: ' '.join([word for word in x.split() if word not in (stop)]))\n",
        "def remove_punc(x) : \n",
        "  x[5] = x[5].translate(str.maketrans('','',string.punctuation))\n",
        "  x[6] = x[6].translate(str.maketrans('','',string.punctuation))\n",
        "  return x\n",
        "data_train = data_train.apply(remove_punc, axis = 1)\n",
        "data_val = data_val.apply(remove_punc, axis = 1)\n",
        "data_test = data_test.apply(remove_punc, axis = 1)\n",
        "clear_output()"
      ],
      "metadata": {
        "id": "vfhnCTzUfBwv"
      },
      "execution_count": null,
      "outputs": []
    },
    {
      "cell_type": "code",
      "source": [
        "data_train"
      ],
      "metadata": {
        "colab": {
          "base_uri": "https://localhost:8080/",
          "height": 1000
        },
        "id": "PnWXjd9CidTz",
        "outputId": "a6efbcdd-8ac6-4fbf-d9b6-befb3302b904"
      },
      "execution_count": null,
      "outputs": [
        {
          "output_type": "execute_result",
          "data": {
            "text/plain": [
              "        gold_label                             sentence1_binary_parse  \\\n",
              "0              1.0  ( ( ( A person ) ( on ( a horse ) ) ) ( ( jump...   \n",
              "1              2.0  ( ( ( A person ) ( on ( a horse ) ) ) ( ( jump...   \n",
              "2              0.0  ( ( ( A person ) ( on ( a horse ) ) ) ( ( jump...   \n",
              "3              1.0  ( Children ( ( ( smiling and ) waving ) ( at c...   \n",
              "4              0.0  ( Children ( ( ( smiling and ) waving ) ( at c...   \n",
              "...            ...                                                ...   \n",
              "550147         2.0  ( ( ( ( Four dirty ) and ) ( barefooted childr...   \n",
              "550148         1.0  ( ( ( ( Four dirty ) and ) ( barefooted childr...   \n",
              "550149         1.0  ( ( A man ) ( ( is ( surfing ( in ( ( a bodysu...   \n",
              "550150         2.0  ( ( A man ) ( ( is ( surfing ( in ( ( a bodysu...   \n",
              "550151         0.0  ( ( A man ) ( ( is ( surfing ( in ( ( a bodysu...   \n",
              "\n",
              "                                   sentence2_binary_parse  \\\n",
              "0       ( ( A person ) ( ( is ( ( training ( his horse...   \n",
              "1       ( ( A person ) ( ( ( ( is ( at ( a diner ) ) )...   \n",
              "2       ( ( A person ) ( ( ( ( is outdoors ) , ) ( on ...   \n",
              "3       ( They ( are ( smiling ( at ( their parents ) ...   \n",
              "4                  ( There ( ( are children ) present ) )   \n",
              "...                                                   ...   \n",
              "550147  ( ( four kids ) ( ( won awards ) ( ( ( for ` )...   \n",
              "550148  ( ( ( ( ( ( four ( homeless children ) ) ( had...   \n",
              "550149  ( ( ( A man ) ( in ( a bodysuit ) ) ) ( ( is (...   \n",
              "550150  ( ( ( A man ) ( in ( a ( business suit ) ) ) )...   \n",
              "550151  ( ( On ( the ( beautiful ( blue water ) ) ) ) ...   \n",
              "\n",
              "                                          sentence1_parse  \\\n",
              "0       (ROOT (S (NP (NP (DT A) (NN person)) (PP (IN o...   \n",
              "1       (ROOT (S (NP (NP (DT A) (NN person)) (PP (IN o...   \n",
              "2       (ROOT (S (NP (NP (DT A) (NN person)) (PP (IN o...   \n",
              "3       (ROOT (NP (S (NP (NNP Children)) (VP (VBG smil...   \n",
              "4       (ROOT (NP (S (NP (NNP Children)) (VP (VBG smil...   \n",
              "...                                                   ...   \n",
              "550147  (ROOT (NP (NP (CD Four) (NNS dirty)) (CC and) ...   \n",
              "550148  (ROOT (NP (NP (CD Four) (NNS dirty)) (CC and) ...   \n",
              "550149  (ROOT (S (NP (DT A) (NN man)) (VP (VBZ is) (VP...   \n",
              "550150  (ROOT (S (NP (DT A) (NN man)) (VP (VBZ is) (VP...   \n",
              "550151  (ROOT (S (NP (DT A) (NN man)) (VP (VBZ is) (VP...   \n",
              "\n",
              "                                          sentence2_parse  \\\n",
              "0       (ROOT (S (NP (DT A) (NN person)) (VP (VBZ is) ...   \n",
              "1       (ROOT (S (NP (DT A) (NN person)) (VP (VBZ is) ...   \n",
              "2       (ROOT (S (NP (DT A) (NN person)) (VP (VBZ is) ...   \n",
              "3       (ROOT (S (NP (PRP They)) (VP (VBP are) (VP (VB...   \n",
              "4       (ROOT (S (NP (EX There)) (VP (VBP are) (NP (NN...   \n",
              "...                                                   ...   \n",
              "550147  (ROOT (S (NP (CD four) (NNS kids)) (VP (VBD wo...   \n",
              "550148  (ROOT (S (S (NP (CD four) (JJ homeless) (NNS c...   \n",
              "550149  (ROOT (S (NP (NP (DT A) (NN man)) (PP (IN in) ...   \n",
              "550150  (ROOT (S (NP (NP (DT A) (NN man)) (PP (IN in) ...   \n",
              "550151  (ROOT (S (PP (IN On) (NP (DT the) (JJ beautifu...   \n",
              "\n",
              "                                          sentence1  \\\n",
              "0              A person horse jumps broken airplane   \n",
              "1              A person horse jumps broken airplane   \n",
              "2              A person horse jumps broken airplane   \n",
              "3                    Children smiling waving camera   \n",
              "4                    Children smiling waving camera   \n",
              "...                                             ...   \n",
              "550147               Four dirty barefooted children   \n",
              "550148               Four dirty barefooted children   \n",
              "550149  A man surfing bodysuit beautiful blue water   \n",
              "550150  A man surfing bodysuit beautiful blue water   \n",
              "550151  A man surfing bodysuit beautiful blue water   \n",
              "\n",
              "                                             sentence2  \n",
              "0                  A person training horse competition  \n",
              "1                     A person diner ordering omelette  \n",
              "2                              A person outdoors horse  \n",
              "3                                 They smiling parents  \n",
              "4                               There children present  \n",
              "...                                                ...  \n",
              "550147                  four kids awards cleanest feet  \n",
              "550148  four homeless children shoes stolen feet dirty  \n",
              "550149    A man bodysuit competing surfing competition  \n",
              "550150       A man business suit heading board meeting  \n",
              "550151    On beautiful blue water man bodysuit surfing  \n",
              "\n",
              "[549361 rows x 7 columns]"
            ],
            "text/html": [
              "\n",
              "  <div id=\"df-c7d38365-4c4b-4dac-8ce5-9d775ebb69e2\">\n",
              "    <div class=\"colab-df-container\">\n",
              "      <div>\n",
              "<style scoped>\n",
              "    .dataframe tbody tr th:only-of-type {\n",
              "        vertical-align: middle;\n",
              "    }\n",
              "\n",
              "    .dataframe tbody tr th {\n",
              "        vertical-align: top;\n",
              "    }\n",
              "\n",
              "    .dataframe thead th {\n",
              "        text-align: right;\n",
              "    }\n",
              "</style>\n",
              "<table border=\"1\" class=\"dataframe\">\n",
              "  <thead>\n",
              "    <tr style=\"text-align: right;\">\n",
              "      <th></th>\n",
              "      <th>gold_label</th>\n",
              "      <th>sentence1_binary_parse</th>\n",
              "      <th>sentence2_binary_parse</th>\n",
              "      <th>sentence1_parse</th>\n",
              "      <th>sentence2_parse</th>\n",
              "      <th>sentence1</th>\n",
              "      <th>sentence2</th>\n",
              "    </tr>\n",
              "  </thead>\n",
              "  <tbody>\n",
              "    <tr>\n",
              "      <th>0</th>\n",
              "      <td>1.0</td>\n",
              "      <td>( ( ( A person ) ( on ( a horse ) ) ) ( ( jump...</td>\n",
              "      <td>( ( A person ) ( ( is ( ( training ( his horse...</td>\n",
              "      <td>(ROOT (S (NP (NP (DT A) (NN person)) (PP (IN o...</td>\n",
              "      <td>(ROOT (S (NP (DT A) (NN person)) (VP (VBZ is) ...</td>\n",
              "      <td>A person horse jumps broken airplane</td>\n",
              "      <td>A person training horse competition</td>\n",
              "    </tr>\n",
              "    <tr>\n",
              "      <th>1</th>\n",
              "      <td>2.0</td>\n",
              "      <td>( ( ( A person ) ( on ( a horse ) ) ) ( ( jump...</td>\n",
              "      <td>( ( A person ) ( ( ( ( is ( at ( a diner ) ) )...</td>\n",
              "      <td>(ROOT (S (NP (NP (DT A) (NN person)) (PP (IN o...</td>\n",
              "      <td>(ROOT (S (NP (DT A) (NN person)) (VP (VBZ is) ...</td>\n",
              "      <td>A person horse jumps broken airplane</td>\n",
              "      <td>A person diner ordering omelette</td>\n",
              "    </tr>\n",
              "    <tr>\n",
              "      <th>2</th>\n",
              "      <td>0.0</td>\n",
              "      <td>( ( ( A person ) ( on ( a horse ) ) ) ( ( jump...</td>\n",
              "      <td>( ( A person ) ( ( ( ( is outdoors ) , ) ( on ...</td>\n",
              "      <td>(ROOT (S (NP (NP (DT A) (NN person)) (PP (IN o...</td>\n",
              "      <td>(ROOT (S (NP (DT A) (NN person)) (VP (VBZ is) ...</td>\n",
              "      <td>A person horse jumps broken airplane</td>\n",
              "      <td>A person outdoors horse</td>\n",
              "    </tr>\n",
              "    <tr>\n",
              "      <th>3</th>\n",
              "      <td>1.0</td>\n",
              "      <td>( Children ( ( ( smiling and ) waving ) ( at c...</td>\n",
              "      <td>( They ( are ( smiling ( at ( their parents ) ...</td>\n",
              "      <td>(ROOT (NP (S (NP (NNP Children)) (VP (VBG smil...</td>\n",
              "      <td>(ROOT (S (NP (PRP They)) (VP (VBP are) (VP (VB...</td>\n",
              "      <td>Children smiling waving camera</td>\n",
              "      <td>They smiling parents</td>\n",
              "    </tr>\n",
              "    <tr>\n",
              "      <th>4</th>\n",
              "      <td>0.0</td>\n",
              "      <td>( Children ( ( ( smiling and ) waving ) ( at c...</td>\n",
              "      <td>( There ( ( are children ) present ) )</td>\n",
              "      <td>(ROOT (NP (S (NP (NNP Children)) (VP (VBG smil...</td>\n",
              "      <td>(ROOT (S (NP (EX There)) (VP (VBP are) (NP (NN...</td>\n",
              "      <td>Children smiling waving camera</td>\n",
              "      <td>There children present</td>\n",
              "    </tr>\n",
              "    <tr>\n",
              "      <th>...</th>\n",
              "      <td>...</td>\n",
              "      <td>...</td>\n",
              "      <td>...</td>\n",
              "      <td>...</td>\n",
              "      <td>...</td>\n",
              "      <td>...</td>\n",
              "      <td>...</td>\n",
              "    </tr>\n",
              "    <tr>\n",
              "      <th>550147</th>\n",
              "      <td>2.0</td>\n",
              "      <td>( ( ( ( Four dirty ) and ) ( barefooted childr...</td>\n",
              "      <td>( ( four kids ) ( ( won awards ) ( ( ( for ` )...</td>\n",
              "      <td>(ROOT (NP (NP (CD Four) (NNS dirty)) (CC and) ...</td>\n",
              "      <td>(ROOT (S (NP (CD four) (NNS kids)) (VP (VBD wo...</td>\n",
              "      <td>Four dirty barefooted children</td>\n",
              "      <td>four kids awards cleanest feet</td>\n",
              "    </tr>\n",
              "    <tr>\n",
              "      <th>550148</th>\n",
              "      <td>1.0</td>\n",
              "      <td>( ( ( ( Four dirty ) and ) ( barefooted childr...</td>\n",
              "      <td>( ( ( ( ( ( four ( homeless children ) ) ( had...</td>\n",
              "      <td>(ROOT (NP (NP (CD Four) (NNS dirty)) (CC and) ...</td>\n",
              "      <td>(ROOT (S (S (NP (CD four) (JJ homeless) (NNS c...</td>\n",
              "      <td>Four dirty barefooted children</td>\n",
              "      <td>four homeless children shoes stolen feet dirty</td>\n",
              "    </tr>\n",
              "    <tr>\n",
              "      <th>550149</th>\n",
              "      <td>1.0</td>\n",
              "      <td>( ( A man ) ( ( is ( surfing ( in ( ( a bodysu...</td>\n",
              "      <td>( ( ( A man ) ( in ( a bodysuit ) ) ) ( ( is (...</td>\n",
              "      <td>(ROOT (S (NP (DT A) (NN man)) (VP (VBZ is) (VP...</td>\n",
              "      <td>(ROOT (S (NP (NP (DT A) (NN man)) (PP (IN in) ...</td>\n",
              "      <td>A man surfing bodysuit beautiful blue water</td>\n",
              "      <td>A man bodysuit competing surfing competition</td>\n",
              "    </tr>\n",
              "    <tr>\n",
              "      <th>550150</th>\n",
              "      <td>2.0</td>\n",
              "      <td>( ( A man ) ( ( is ( surfing ( in ( ( a bodysu...</td>\n",
              "      <td>( ( ( A man ) ( in ( a ( business suit ) ) ) )...</td>\n",
              "      <td>(ROOT (S (NP (DT A) (NN man)) (VP (VBZ is) (VP...</td>\n",
              "      <td>(ROOT (S (NP (NP (DT A) (NN man)) (PP (IN in) ...</td>\n",
              "      <td>A man surfing bodysuit beautiful blue water</td>\n",
              "      <td>A man business suit heading board meeting</td>\n",
              "    </tr>\n",
              "    <tr>\n",
              "      <th>550151</th>\n",
              "      <td>0.0</td>\n",
              "      <td>( ( A man ) ( ( is ( surfing ( in ( ( a bodysu...</td>\n",
              "      <td>( ( On ( the ( beautiful ( blue water ) ) ) ) ...</td>\n",
              "      <td>(ROOT (S (NP (DT A) (NN man)) (VP (VBZ is) (VP...</td>\n",
              "      <td>(ROOT (S (PP (IN On) (NP (DT the) (JJ beautifu...</td>\n",
              "      <td>A man surfing bodysuit beautiful blue water</td>\n",
              "      <td>On beautiful blue water man bodysuit surfing</td>\n",
              "    </tr>\n",
              "  </tbody>\n",
              "</table>\n",
              "<p>549361 rows × 7 columns</p>\n",
              "</div>\n",
              "      <button class=\"colab-df-convert\" onclick=\"convertToInteractive('df-c7d38365-4c4b-4dac-8ce5-9d775ebb69e2')\"\n",
              "              title=\"Convert this dataframe to an interactive table.\"\n",
              "              style=\"display:none;\">\n",
              "        \n",
              "  <svg xmlns=\"http://www.w3.org/2000/svg\" height=\"24px\"viewBox=\"0 0 24 24\"\n",
              "       width=\"24px\">\n",
              "    <path d=\"M0 0h24v24H0V0z\" fill=\"none\"/>\n",
              "    <path d=\"M18.56 5.44l.94 2.06.94-2.06 2.06-.94-2.06-.94-.94-2.06-.94 2.06-2.06.94zm-11 1L8.5 8.5l.94-2.06 2.06-.94-2.06-.94L8.5 2.5l-.94 2.06-2.06.94zm10 10l.94 2.06.94-2.06 2.06-.94-2.06-.94-.94-2.06-.94 2.06-2.06.94z\"/><path d=\"M17.41 7.96l-1.37-1.37c-.4-.4-.92-.59-1.43-.59-.52 0-1.04.2-1.43.59L10.3 9.45l-7.72 7.72c-.78.78-.78 2.05 0 2.83L4 21.41c.39.39.9.59 1.41.59.51 0 1.02-.2 1.41-.59l7.78-7.78 2.81-2.81c.8-.78.8-2.07 0-2.86zM5.41 20L4 18.59l7.72-7.72 1.47 1.35L5.41 20z\"/>\n",
              "  </svg>\n",
              "      </button>\n",
              "      \n",
              "  <style>\n",
              "    .colab-df-container {\n",
              "      display:flex;\n",
              "      flex-wrap:wrap;\n",
              "      gap: 12px;\n",
              "    }\n",
              "\n",
              "    .colab-df-convert {\n",
              "      background-color: #E8F0FE;\n",
              "      border: none;\n",
              "      border-radius: 50%;\n",
              "      cursor: pointer;\n",
              "      display: none;\n",
              "      fill: #1967D2;\n",
              "      height: 32px;\n",
              "      padding: 0 0 0 0;\n",
              "      width: 32px;\n",
              "    }\n",
              "\n",
              "    .colab-df-convert:hover {\n",
              "      background-color: #E2EBFA;\n",
              "      box-shadow: 0px 1px 2px rgba(60, 64, 67, 0.3), 0px 1px 3px 1px rgba(60, 64, 67, 0.15);\n",
              "      fill: #174EA6;\n",
              "    }\n",
              "\n",
              "    [theme=dark] .colab-df-convert {\n",
              "      background-color: #3B4455;\n",
              "      fill: #D2E3FC;\n",
              "    }\n",
              "\n",
              "    [theme=dark] .colab-df-convert:hover {\n",
              "      background-color: #434B5C;\n",
              "      box-shadow: 0px 1px 3px 1px rgba(0, 0, 0, 0.15);\n",
              "      filter: drop-shadow(0px 1px 2px rgba(0, 0, 0, 0.3));\n",
              "      fill: #FFFFFF;\n",
              "    }\n",
              "  </style>\n",
              "\n",
              "      <script>\n",
              "        const buttonEl =\n",
              "          document.querySelector('#df-c7d38365-4c4b-4dac-8ce5-9d775ebb69e2 button.colab-df-convert');\n",
              "        buttonEl.style.display =\n",
              "          google.colab.kernel.accessAllowed ? 'block' : 'none';\n",
              "\n",
              "        async function convertToInteractive(key) {\n",
              "          const element = document.querySelector('#df-c7d38365-4c4b-4dac-8ce5-9d775ebb69e2');\n",
              "          const dataTable =\n",
              "            await google.colab.kernel.invokeFunction('convertToInteractive',\n",
              "                                                     [key], {});\n",
              "          if (!dataTable) return;\n",
              "\n",
              "          const docLinkHtml = 'Like what you see? Visit the ' +\n",
              "            '<a target=\"_blank\" href=https://colab.research.google.com/notebooks/data_table.ipynb>data table notebook</a>'\n",
              "            + ' to learn more about interactive tables.';\n",
              "          element.innerHTML = '';\n",
              "          dataTable['output_type'] = 'display_data';\n",
              "          await google.colab.output.renderOutput(dataTable, element);\n",
              "          const docLink = document.createElement('div');\n",
              "          docLink.innerHTML = docLinkHtml;\n",
              "          element.appendChild(docLink);\n",
              "        }\n",
              "      </script>\n",
              "    </div>\n",
              "  </div>\n",
              "  "
            ]
          },
          "metadata": {},
          "execution_count": 9
        }
      ]
    },
    {
      "cell_type": "markdown",
      "source": [
        "Great, now that we have cleaned the data. We can get into training some models. :)"
      ],
      "metadata": {
        "id": "oPIHx2I5nNr_"
      }
    },
    {
      "cell_type": "markdown",
      "source": [
        "## 1. Dense Neural Networks\n",
        "\n",
        "As a baseline, we start by training a dense neural network to do our prediction. As you are already familiar with this kind of neural network, we will do the training for you. And just ask you a few questions. \n",
        "\n",
        "To get started, lets start by developing our embedding. "
      ],
      "metadata": {
        "id": "iIrT-JacnWEv"
      }
    },
    {
      "cell_type": "markdown",
      "source": [
        "### 1.1. Training the model\n",
        "\n",
        "Note that we have two inputs in our dataset that we must feed to the model. Run the code below to develop embedding layers for each input. "
      ],
      "metadata": {
        "id": "DEYm-zwsoqPZ"
      }
    },
    {
      "cell_type": "code",
      "source": [
        "training_data_text = np.array(data_train['sentence1'])\n",
        "training_data_hyp = np.array(data_train['sentence2'])\n",
        "vectorizer_text = tf.keras.layers.TextVectorization(max_tokens=25000,output_sequence_length=200)\n",
        "vectorizer_hyp = tf.keras.layers.TextVectorization(max_tokens=25000,output_sequence_length=200)\n",
        "training_data_text_ds = tf.data.Dataset.from_tensor_slices(training_data_text).batch(128)\n",
        "training_data_hyp_ds = tf.data.Dataset.from_tensor_slices(training_data_hyp).batch(128)\n",
        "vectorizer_text.adapt(training_data_text_ds)\n",
        "vectorizer_hyp.adapt(training_data_hyp_ds)"
      ],
      "metadata": {
        "id": "BmtKmMtVpADP"
      },
      "execution_count": null,
      "outputs": []
    },
    {
      "cell_type": "markdown",
      "source": [
        "Great, now we have vectorizers for our two inputs. Lets develop the embedding matrix and layers. For this one, we are going to use the GLOVE embeddings, but feel free to use whatever you see fit. "
      ],
      "metadata": {
        "id": "2Z6TaoWbqqpO"
      }
    },
    {
      "cell_type": "code",
      "source": [
        "!wget http://nlp.stanford.edu/data/glove.6B.zip\n",
        "!unzip -q glove.6B.zip\n",
        "clear_output()"
      ],
      "metadata": {
        "id": "BFOscFw1q32J"
      },
      "execution_count": null,
      "outputs": []
    },
    {
      "cell_type": "code",
      "source": [
        "import os\n",
        "voc_text = vectorizer_text.get_vocabulary()\n",
        "voc_hyp = vectorizer_hyp.get_vocabulary()\n",
        "word_index_text = dict(zip(voc_text, range(len(voc_text))))\n",
        "word_index_hyp = dict(zip(voc_hyp, range(len(voc_hyp))))\n",
        "path_to_glove_file = os.path.join(\n",
        "    os.path.expanduser(\"~\"), \"/content/glove.6B.200d.txt\"\n",
        ")\n",
        "\n",
        "embeddings_index = {}\n",
        "with open(path_to_glove_file) as f:\n",
        "    for line in f:\n",
        "        word, coefs = line.split(maxsplit=1)\n",
        "        coefs = np.fromstring(coefs, \"f\", sep=\" \")\n",
        "        embeddings_index[word] = coefs\n",
        "\n",
        "print(\"Found %s word vectors.\" % len(embeddings_index))\n",
        "num_tokens_text = len(voc_text) + 2\n",
        "embedding_dim = 200\n",
        "hits = 0\n",
        "misses = 0\n",
        "\n",
        "# Prepare embedding matrix\n",
        "embedding_matrix_text = np.zeros((num_tokens_text, embedding_dim))\n",
        "for word, i in word_index_text.items():\n",
        "    embedding_vector = embeddings_index.get(word)\n",
        "    if embedding_vector is not None:\n",
        "        # Words not found in embedding index will be all-zeros.\n",
        "        # This includes the representation for \"padding\" and \"OOV\"\n",
        "        embedding_matrix_text[i] = embedding_vector\n",
        "        hits += 1\n",
        "    else:\n",
        "        misses += 1\n",
        "print(\"Converted %d words (%d misses)\" % (hits, misses))\n",
        "\n",
        "num_tokens_hyp = len(voc_hyp) + 2\n",
        "hits = 0\n",
        "misses = 0\n",
        "\n",
        "embedding_matrix_hyp = np.zeros((num_tokens_hyp, embedding_dim))\n",
        "for word, i in word_index_hyp.items():\n",
        "    embedding_vector = embeddings_index.get(word)\n",
        "    if embedding_vector is not None:\n",
        "        embedding_matrix_hyp[i] = embedding_vector\n",
        "        hits += 1\n",
        "    else:\n",
        "        misses += 1\n",
        "print(\"Converted %d words (%d misses)\" % (hits, misses))\n"
      ],
      "metadata": {
        "colab": {
          "base_uri": "https://localhost:8080/"
        },
        "id": "CC77Cz4_z8O3",
        "outputId": "51767406-366e-4db7-8d07-05913a7d5f76"
      },
      "execution_count": null,
      "outputs": [
        {
          "output_type": "stream",
          "name": "stdout",
          "text": [
            "Found 400000 word vectors.\n",
            "Converted 17136 words (2588 misses)\n",
            "Converted 20943 words (4057 misses)\n"
          ]
        }
      ]
    },
    {
      "cell_type": "markdown",
      "source": [
        "Now that we have created our embedding matrices, lets build our model. Run the code below to build the model."
      ],
      "metadata": {
        "id": "qJ1AKcIh6tIi"
      }
    },
    {
      "cell_type": "code",
      "source": [
        "embedding_layer_text = tf.keras.layers.Embedding(num_tokens_text,embedding_dim,embeddings_initializer= tf.keras.initializers.Constant(embedding_matrix_text),trainable = False)\n",
        "embedding_layer_hyp = tf.keras.layers.Embedding(num_tokens_hyp,embedding_dim,embeddings_initializer= tf.keras.initializers.Constant(embedding_matrix_hyp),trainable = False)\n",
        "inp1 = tf.keras.layers.Input((200,),dtype = 'int64')\n",
        "embedding_text = embedding_layer_text(inp1)\n",
        "inp2 = tf.keras.layers.Input((200,),dtype = 'int64')\n",
        "embedding_hyp = embedding_layer_hyp(inp2)\n",
        "conc = tf.keras.layers.Concatenate()([embedding_text,embedding_hyp])\n",
        "x = tf.keras.layers.Dense(256, activation = 'relu')(conc)\n",
        "x = tf.keras.layers.Dropout(0.6)(x)\n",
        "x = tf.keras.layers.Flatten()(x)\n",
        "x = tf.keras.layers.Dense(128, activation = 'relu')(x)\n",
        "x = tf.keras.layers.Dropout(0.6)(x)\n",
        "output = tf.keras.layers.Dense(3,activation = 'softmax')(x)\n",
        "model = tf.keras.models.Model(inputs = [inp1,inp2],outputs = output)\n",
        "tf.keras.utils.plot_model(model, to_file='model_1.png', show_shapes=True)"
      ],
      "metadata": {
        "colab": {
          "base_uri": "https://localhost:8080/",
          "height": 907
        },
        "id": "TyTJWBgA6zGU",
        "outputId": "171cd985-28e8-45f1-a0d6-034997dc33b2"
      },
      "execution_count": null,
      "outputs": [
        {
          "output_type": "execute_result",
          "data": {
            "text/plain": [
              "<IPython.core.display.Image object>"
            ],
            "image/png": "[encoded data removed]"
          },
          "metadata": {},
          "execution_count": 46
        }
      ]
    },
    {
      "cell_type": "markdown",
      "source": [
        "Great, now that we have our model, lets do a quick training on it."
      ],
      "metadata": {
        "id": "XHjUoumD-anw"
      }
    },
    {
      "cell_type": "code",
      "source": [
        "train_text = vectorizer_text(np.array([[s] for s in training_data_text])).numpy()\n",
        "train_hyp = vectorizer_hyp(np.array([[s] for s in training_data_hyp])).numpy()\n",
        "train_labels = np.array(data_train['gold_label'])\n",
        "val_data_text = np.array(data_val['sentence1'])\n",
        "val_data_hyp = np.array(data_val['sentence2'])\n",
        "val_text = vectorizer_text(np.array([[s] for s in val_data_text])).numpy()\n",
        "val_hyp = vectorizer_hyp(np.array([[s] for s in val_data_hyp])).numpy()\n",
        "val_labels = np.array(data_val['gold_label'])\n",
        "opt = tf.keras.optimizers.Adam()\n",
        "model.compile(\n",
        "    loss=\"sparse_categorical_crossentropy\", optimizer=opt, metrics=[\"acc\"]\n",
        ")\n",
        "model.fit(x = [train_text,train_hyp],y=train_labels, batch_size = 128, validation_data=[[val_text,val_hyp],val_labels],epochs = 4)"
      ],
      "metadata": {
        "colab": {
          "base_uri": "https://localhost:8080/"
        },
        "id": "kbBywPUA-eiI",
        "outputId": "f345b4d1-846a-4552-8bd8-6888cce4fe6c"
      },
      "execution_count": null,
      "outputs": [
        {
          "output_type": "stream",
          "name": "stdout",
          "text": [
            "Epoch 1/4\n",
            "4292/4292 [==============================] - 97s 22ms/step - loss: 0.9146 - acc: 0.5697 - val_loss: 0.8209 - val_acc: 0.6404\n",
            "Epoch 2/4\n",
            "4292/4292 [==============================] - 97s 23ms/step - loss: 0.8527 - acc: 0.6133 - val_loss: 0.7860 - val_acc: 0.6641\n",
            "Epoch 3/4\n",
            "4292/4292 [==============================] - 96s 22ms/step - loss: 0.8345 - acc: 0.6265 - val_loss: 0.7784 - val_acc: 0.6747\n",
            "Epoch 4/4\n",
            "4292/4292 [==============================] - 96s 22ms/step - loss: 0.8241 - acc: 0.6333 - val_loss: 0.7683 - val_acc: 0.6761\n"
          ]
        },
        {
          "output_type": "execute_result",
          "data": {
            "text/plain": [
              "<keras.callbacks.History at 0x7fae0250f490>"
            ]
          },
          "metadata": {},
          "execution_count": 47
        }
      ]
    },
    {
      "cell_type": "markdown",
      "source": [
        "Now that we have trained our model, lets test it using our test dataset."
      ],
      "metadata": {
        "id": "JoF_Dr-HQ9dl"
      }
    },
    {
      "cell_type": "code",
      "source": [
        "test_data_text = np.array(data_test['sentence1'])\n",
        "test_data_hyp = np.array(data_test['sentence2'])\n",
        "test_text = vectorizer_text(np.array([[s] for s in test_data_text])).numpy()\n",
        "test_hyp = vectorizer_hyp(np.array([[s] for s in test_data_hyp])).numpy()\n",
        "test_labels = np.array(data_test['gold_label'])\n",
        "model.evaluate(x=[test_text,test_hyp],y = test_labels)"
      ],
      "metadata": {
        "colab": {
          "base_uri": "https://localhost:8080/"
        },
        "id": "EeJe5Bx2B6px",
        "outputId": "db07eb75-6662-49dc-cb7b-2b9e4b2427e9"
      },
      "execution_count": null,
      "outputs": [
        {
          "output_type": "stream",
          "name": "stdout",
          "text": [
            "307/307 [==============================] - 3s 8ms/step - loss: 0.7557 - acc: 0.6809\n"
          ]
        },
        {
          "output_type": "execute_result",
          "data": {
            "text/plain": [
              "[0.7557432055473328, 0.680883526802063]"
            ]
          },
          "metadata": {},
          "execution_count": 48
        }
      ]
    },
    {
      "cell_type": "markdown",
      "source": [
        "### 1.2. Another Approach?\n",
        "\n",
        "Note that we have developed two separate embeddings in our approach, one for the original text, and one for the hypothesis. Can you think of another method by which we can train our model? Explain your method and hypothesize if you think this second approach is better than the original one or not."
      ],
      "metadata": {
        "id": "w7YBiyUkRXH9"
      }
    },
    {
      "cell_type": "markdown",
      "source": [
        "**Type Your Answer Here**"
      ],
      "metadata": {
        "id": "rdq-QFtWRzdE"
      }
    },
    {
      "cell_type": "markdown",
      "source": [
        "Great, now, having thought about a second approach and having contemplated its possible performance, develop, train, and test a model using your own approach in the cell below. You may take inspiration from the model that we just implemented. :)\n",
        "\n",
        "For this subtask **alone**, your model does not need to outperform our previous model."
      ],
      "metadata": {
        "id": "v29uq779SFH7"
      }
    },
    {
      "cell_type": "code",
      "source": [
        "# Develop and train your model here"
      ],
      "metadata": {
        "id": "lQoWcRxuSiPX"
      },
      "execution_count": null,
      "outputs": []
    },
    {
      "cell_type": "code",
      "source": [
        "# Test your model here"
      ],
      "metadata": {
        "id": "YzCHxk2oS5tD"
      },
      "execution_count": null,
      "outputs": []
    },
    {
      "cell_type": "markdown",
      "source": [
        "Good job. We have now implemented two possible methods for solving our problem. With this new knowledge in mind, answer the questions below. \n",
        "\n",
        "1 - Does the second model outperform the first one? Is the difference significant? \n",
        "\n",
        "2 - What are the main differences between these two models?\n",
        "\n",
        "3 - Which approach do you think is better in general? Explain your answer"
      ],
      "metadata": {
        "id": "3YzyBr8aS78A"
      }
    },
    {
      "cell_type": "markdown",
      "source": [
        "**Type Your Answer Here**"
      ],
      "metadata": {
        "id": "eC6YHO_VTiPd"
      }
    },
    {
      "cell_type": "markdown",
      "source": [
        "### 1.3. Limitations\n",
        "\n",
        "We have observed that a simple dense neural network can perform reasonably well in the SNLI task. However, as you already know, there are limitations to using dense networks in NLP tasks. \n",
        "\n",
        "Name two of the limitations that come up when using a dense network to tackle NLP problems. Explain each limitation and come up with solutions that can be used to tackle them"
      ],
      "metadata": {
        "id": "r76G9TjTTtjv"
      }
    },
    {
      "cell_type": "markdown",
      "source": [
        "**Type Your Answer Here**"
      ],
      "metadata": {
        "id": "FnfYbtt2UW4v"
      }
    },
    {
      "cell_type": "markdown",
      "source": [
        "## 2. Simple Recurrent Neural Networks\n",
        "\n",
        "To fix the problems encountered while using dense neural networks, recurrent neural networks were introduced. These models read the input one at a time and have a temportal knowledge of the input, which helps them immensely while working with timestamped data, such as natural language. \n",
        "\n",
        "In this section, you are going to implement your own simple recurrent neural network. "
      ],
      "metadata": {
        "id": "nGRfroKJUgKM"
      }
    },
    {
      "cell_type": "markdown",
      "source": [
        "### 2.1. Implementing the Recurrent Neural Network \n",
        "\n",
        "To start, we are going to implement a simple recurrent neural network without any extensions. This is the simplest form of a recurrent network, but still fixes some of the problems that dense networks have. \n",
        "\n",
        "Write your code below such that a simple recurrent neural network is created, trained, and tested on our data. Don't forget our rule."
      ],
      "metadata": {
        "id": "uMxgPgEwY_XE"
      }
    },
    {
      "cell_type": "code",
      "source": [
        "# Develop and Train your model here"
      ],
      "metadata": {
        "id": "HupCQqtJZg1g"
      },
      "execution_count": null,
      "outputs": []
    },
    {
      "cell_type": "code",
      "source": [
        "# Test your model here"
      ],
      "metadata": {
        "id": "H0EKonKEZjH_"
      },
      "execution_count": null,
      "outputs": []
    },
    {
      "cell_type": "markdown",
      "source": [
        "Great job. Observe that it is very uncommon to see deep recurrent neural networks. Most of the models usually use one or two layers of recurrent layers. With this knowledge in mind, answer the questions below. \n",
        "\n",
        "1 - Why do you think it is the case that deeper recurrent neural networks are uncommon? \n",
        "\n",
        "2 - What do you think the difference between a wider recurrent network and a deeper one is? If your model is struggling to learn, increasing which of these is the first step to take? \n",
        "\n",
        "You may play with your model to get the answer for these questions."
      ],
      "metadata": {
        "id": "6oqSeLssZnpF"
      }
    },
    {
      "cell_type": "markdown",
      "source": [
        "**Type Your Answer Here**"
      ],
      "metadata": {
        "id": "uyTopyKqaf2F"
      }
    },
    {
      "cell_type": "markdown",
      "source": [
        "### 2.2 Dropout in Recurrent Neural Networks\n",
        "\n",
        "Complex Neural Networks are prone to overfitting. One of the best ways to tackle this problem is using dropout. Unlike other conventional networks, dropout can be applied in a multitude of ways in recurrent neural networks. Namely, one can either apply the dropout cellwise, or layerwise while developing a recurrent neural network. With this knowledge in mind, answer the questions below. "
      ],
      "metadata": {
        "id": "dKSpX_u_ah50"
      }
    },
    {
      "cell_type": "markdown",
      "source": [
        "1 - What is the difference between cellwise and layerwise dropout? \n",
        "\n",
        "2 - Which one of these dropouts is more commonly used? Why? What happens if we use the other one? \n",
        "\n",
        "3 - Is there a difference between the optimal threshold of two dropouts? If yes, What is the optimal threshold for each of them? "
      ],
      "metadata": {
        "id": "nUtlAC7abyrm"
      }
    },
    {
      "cell_type": "markdown",
      "source": [
        "** Type Your Answer Here**"
      ],
      "metadata": {
        "id": "ZRuD--vEbzaV"
      }
    },
    {
      "cell_type": "markdown",
      "source": [
        "Now that you have become familiar with dropout in recurrent neural networks. Extend your model such that it uses the best form of dropout. Write your code below."
      ],
      "metadata": {
        "id": "AEXTIFe6b4vi"
      }
    },
    {
      "cell_type": "code",
      "source": [
        "# Develop and Train your Model Here"
      ],
      "metadata": {
        "id": "VW6P6Up0b4LO"
      },
      "execution_count": null,
      "outputs": []
    },
    {
      "cell_type": "code",
      "source": [
        "# Test Your Model Here"
      ],
      "metadata": {
        "id": "cgCOhuwgci4r"
      },
      "execution_count": null,
      "outputs": []
    },
    {
      "cell_type": "markdown",
      "source": [
        "Do you see any differences in model performance? Does the model train faster/slower? Is the model more stable? Explain your answer."
      ],
      "metadata": {
        "id": "HoGlxzVWclJs"
      }
    },
    {
      "cell_type": "markdown",
      "source": [
        "**Type Your Answer Here**"
      ],
      "metadata": {
        "id": "HpIEeiWectXN"
      }
    },
    {
      "cell_type": "markdown",
      "source": [
        "### 2.3 Limitations\n",
        "\n",
        "Being the simplest form of recurrent neural network, simple RNN's have a plethora of problems. Answer the questions below. \n",
        "\n",
        "1 - What is the main problem with simple RNN's? Explain the problem and give a solution. \n",
        "\n",
        "2 - In what context is this problem boldly observable? Give an example. \n",
        "\n",
        "3 - What is the common solution for fixing the problems with recurrent neural networks? Do you think thee are other ways to tackle this problem?"
      ],
      "metadata": {
        "id": "9PhdaohCcvzn"
      }
    },
    {
      "cell_type": "markdown",
      "source": [
        "**Type Your Answer Here**"
      ],
      "metadata": {
        "id": "7gfJhEkTeNYz"
      }
    },
    {
      "cell_type": "markdown",
      "source": [
        "## Gated Recurrent Networks \n",
        "\n",
        "Gated Recurrent Networks were introduced to fix the shortcomings of simple recurrent networks and prior to transformer models, they were the state of the art models with respect to model performance in NLP tasks. In this section, we are going to implement our own gated recurrent network and answer some questions about them. "
      ],
      "metadata": {
        "id": "ZqhcNWrTeWZs"
      }
    },
    {
      "cell_type": "markdown",
      "source": [
        "### 3.1 Different kinds of gated recurrent networks. \n",
        "\n",
        "In general, there are two types of gated recurrent networks, Gated Recurrent Units (GRU) and Long-Short-Term-Memory Networks (LSTM). They are essentially similar to each other, but have a few differences. \n",
        "\n",
        "What are the differences and similarities between these two networks? Do you think one network is better than the other? Explain your answer"
      ],
      "metadata": {
        "id": "YH8gHiIpqRuD"
      }
    },
    {
      "cell_type": "markdown",
      "source": [
        "**Type Your Answer Here**"
      ],
      "metadata": {
        "id": "6y6OLN7Yqz2c"
      }
    },
    {
      "cell_type": "markdown",
      "source": [
        "### 3.2 Implementing the Gated Recurrent Network\n",
        "\n",
        "Now that we are familiar with these type of networks, it is time to implement our own gated recurrent network. Write your code below such that a gated recurrent network of your own choice is created, trained, and tested on our dataset. "
      ],
      "metadata": {
        "id": "gafjzT4kq7PK"
      }
    },
    {
      "cell_type": "code",
      "source": [
        "# Create and Train Your Model Here"
      ],
      "metadata": {
        "id": "OylFeMBLrix8"
      },
      "execution_count": null,
      "outputs": []
    },
    {
      "cell_type": "code",
      "source": [
        "# Test your Model Here"
      ],
      "metadata": {
        "id": "G_UBDZjtrlMi"
      },
      "execution_count": null,
      "outputs": []
    },
    {
      "cell_type": "markdown",
      "source": [
        "### 3.3 Tackling the Old Problems\n",
        "\n",
        "In general, classic recurrent neural networks have two main problems, namely, gradient vanishing and gradient explosion. With this knowledge in mind, answer the questions below.\n",
        "\n",
        "1 - Describe each of these problems. How can they hinder the performance of the model? \n",
        "\n",
        "2 - What do you propose for fixing each of these problems? why? \n",
        "\n",
        "3 - Which of these problems is fixed due to the nature of the gated recurrent networks? How does the gated architecture manage to fix it? \n",
        "\n",
        "4 - Is there a feasible method for fixing the other problem? Explain your answer. "
      ],
      "metadata": {
        "id": "67n8dssMrnVy"
      }
    },
    {
      "cell_type": "markdown",
      "source": [
        "**Type Your Answer Here**"
      ],
      "metadata": {
        "id": "frGTdSYnr3Us"
      }
    },
    {
      "cell_type": "markdown",
      "source": [
        "Now that you are aware of the problems, and know that even gated recurrent networks don't fix at least one of them out of the box. Extend your model such that the other problem is also tackled. "
      ],
      "metadata": {
        "id": "CoAocq-9sgat"
      }
    },
    {
      "cell_type": "code",
      "source": [
        "# Create and Train your model here"
      ],
      "metadata": {
        "id": "LE7RyC5us28M"
      },
      "execution_count": null,
      "outputs": []
    },
    {
      "cell_type": "code",
      "source": [
        "# Test your model here"
      ],
      "metadata": {
        "id": "nRtIL-uas5kb"
      },
      "execution_count": null,
      "outputs": []
    },
    {
      "cell_type": "markdown",
      "source": [
        "Do you see any signifcant differences in model performance? Why? In what cases do you think a significant difference can be seen? "
      ],
      "metadata": {
        "id": "efKeCgCzs7s0"
      }
    },
    {
      "cell_type": "markdown",
      "source": [
        "**Type Your Answer Here**"
      ],
      "metadata": {
        "id": "21NIt5fatOG8"
      }
    },
    {
      "cell_type": "markdown",
      "source": [
        "### 3.4 Limitations\n",
        "\n",
        "While being state of the art prior to transformer models, gated recurrent models still have a few problems. With this knowledge in mind, answer the questions below\n",
        "\n",
        "1 - What do you think are the main problems with gated recurrent networks? How do you propose fixing them? \n",
        "\n",
        "2 - Now that you are a bit familiar with transformer models, discuss how these models manage to fix the problems with gated networks. What are their fundamental differences? "
      ],
      "metadata": {
        "id": "EpqoiWlLtaQj"
      }
    },
    {
      "cell_type": "markdown",
      "source": [
        "**Type Your Answer Here**"
      ],
      "metadata": {
        "id": "yO7q26aluO6N"
      }
    },
    {
      "cell_type": "markdown",
      "source": [
        "## 4. Attention Mechanism\n",
        "\n",
        "Attention is widely used in almost every NLP task. In essence, attention gives the model the ability to look at the relevant features from the past steps and take them into consideration while creating the representation. It has been shown that attention mechanism can greatly improve the performance of the model. \n",
        "\n",
        "In this section, we will work a bit with attention in recurrent networks."
      ],
      "metadata": {
        "id": "otuBZgUrunFy"
      }
    },
    {
      "cell_type": "markdown",
      "source": [
        "### 4.1 Different Kinds of Attention\n",
        "\n",
        "There are many kinds of attention that are used in NLP tasks. Some are more complex than others. First, lets take a look at some of the basic attention mechanisms. Answer the questions below. \n",
        "\n",
        "1 - Take a look at Dot Product attention. Describe how it works and why do you think it is a good attention mechanism? \n",
        "\n",
        "2 - Take a look at Additive attention. Describe how it works and why do you think it is a good attention mechanism? \n",
        "\n",
        "3 - Compare two of the attention types, what do you think are the main differences? Which one is better? Why? \n",
        "\n",
        "4 - Do you think the inner workings of gated recurrent networks can be regarded as some form of attention mechanism? Explain your answer."
      ],
      "metadata": {
        "id": "wubQ92QXyTHP"
      }
    },
    {
      "cell_type": "markdown",
      "source": [
        "### 4.2 Integrating Attention Into Your Model\n",
        "\n",
        "Now that we have a better understanding of attention in NLP models. It is time to implement our own attention into a gated recurrent network. Extend your model from the previous section such that it can utilize the attention mechanism of your choice while creating representations. \n",
        "\n",
        "Note that as we have two inputs, we can approach this problem from two different perspectives in this case. We can either make each representation attend to previous representations of the same input by using the dot product on the earlier representations for example. This is called self-attention. Or, we can alternatively use attention on both inputs, using the dot product of representations from one input on the other. You can use either form of attention in this section, or even a combination of both if you like. :) "
      ],
      "metadata": {
        "id": "l87EbL5TzP7E"
      }
    },
    {
      "cell_type": "code",
      "source": [
        "#Create and Train your model here"
      ],
      "metadata": {
        "id": "7g00FIWl9aay"
      },
      "execution_count": null,
      "outputs": []
    },
    {
      "cell_type": "code",
      "source": [
        "#Test your model here"
      ],
      "metadata": {
        "id": "HY9HmRQb9cYf"
      },
      "execution_count": null,
      "outputs": []
    },
    {
      "cell_type": "markdown",
      "source": [
        "### 4.3 Error Analysis\n",
        "\n",
        "Now that we have created the best possible model using classical recurrent neural networks. We should do an error analysis to see how our model performs on different tasks. \n",
        "\n",
        "Complete the function below such that given a history of model output, and the gold labels, a confusion matrix is created showcasing the True and False Classifications. \n",
        "\n",
        "Your final output should look like the matrix below, or its transpose. \n",
        "\n",
        "![image.png](data:image/png;base64,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)"
      ],
      "metadata": {
        "id": "PbUvWzqe-wwN"
      }
    },
    {
      "cell_type": "code",
      "source": [
        "def create_confusion_matrix(history,gold_labels) : \n",
        "  print('Write Your Code here')\n",
        "create_confusion_matrix(history,test_labels)"
      ],
      "metadata": {
        "id": "gcq7q5s--wO7"
      },
      "execution_count": null,
      "outputs": []
    },
    {
      "cell_type": "markdown",
      "source": [
        "Having created the confusion matrix, we can now have a better look at our model performance. Answer the questions below based on your confusion matirx. \n",
        "\n",
        "1 - In what class does the model perform the best? \n",
        "\n",
        "2 - In what class does the model perform the worst? \n",
        "\n",
        "3 - What two classes does the model confound with each other the most? What do you think the reason behind this is? Can you think of a method by which we can decrease this confusion? \n",
        "\n",
        "4 - Aside from confusion matrix, can you think of any other error analysis tools that may come in handy while analyzing our model?"
      ],
      "metadata": {
        "id": "uyJ7fwmQAAoA"
      }
    },
    {
      "cell_type": "markdown",
      "source": [
        "**Type Your Answer Here**"
      ],
      "metadata": {
        "id": "LuISNn_qApZE"
      }
    },
    {
      "cell_type": "markdown",
      "source": [
        "## Submission\n",
        "\n",
        "Congratulations! You finished the assignment & you're ready to submit your work. Please follow the instructions:\n",
        "\n",
        "1. Check and review your answers. Make sure all of the cell outputs are what you want. \n",
        "2. Select File > Save.\n",
        "3. **Fill your information** & run the cell bellow.\n",
        "4. Run **Make Submission** cell, It may take several minutes and it may ask you for your credential.\n",
        "5. Run **Download Submission** cell to obtain your submission as a zip file.\n",
        "6. Grab the downloaded file (`nlp_asg02__xx__xx.zip`) and hand it over in microsoft teams.\n",
        "\n",
        "\n",
        "\n"
      ],
      "metadata": {
        "id": "Qmx1FoiAyxbB"
      }
    },
    {
      "cell_type": "code",
      "source": [
        "#@title Enter your information & \"RUN the cell!!\" { run: \"auto\" }\n",
        "student_id = \"123124\" #@param {type:\"string\"}\n",
        "student_name = \"5121312\" #@param {type:\"string\"}\n",
        "\n",
        "print(\"your student id:\", student_id)\n",
        "print(\"your name:\", student_name)\n",
        "\n",
        "\n",
        "from pathlib import Path\n",
        "\n",
        "ASSIGNMENT_PATH = Path('asg02')\n",
        "ASSIGNMENT_PATH.mkdir(parents=True, exist_ok=True)"
      ],
      "metadata": {
        "colab": {
          "base_uri": "https://localhost:8080/"
        },
        "id": "p8pIF14Bzkod",
        "outputId": "77ed38f9-7961-4c20-aa3f-63138f1ef195"
      },
      "execution_count": null,
      "outputs": [
        {
          "output_type": "stream",
          "name": "stdout",
          "text": [
            "your student id: 123124\n",
            "your name: 5121312\n"
          ]
        }
      ]
    },
    {
      "cell_type": "code",
      "source": [
        "#@title Make submission\n",
        "! pip install -U --quiet PyDrive > /dev/null\n",
        "! pip install -U --quiet jdatetime > /dev/null\n",
        "\n",
        "# ! wget -q https://github.com/github/hub/releases/download/v2.10.0/hub-linux-amd64-2.10.0.tgz \n",
        "\n",
        "\n",
        "import os\n",
        "import time\n",
        "import yaml\n",
        "import json\n",
        "import jdatetime\n",
        "\n",
        "from google.colab import files\n",
        "from IPython.display import Javascript\n",
        "from pydrive.auth import GoogleAuth\n",
        "from pydrive.drive import GoogleDrive\n",
        "from google.colab import auth\n",
        "from oauth2client.client import GoogleCredentials\n",
        "\n",
        "asg_name = 'NLP_Assignment_2'\n",
        "script_save = '''\n",
        "require([\"base/js/namespace\"],function(Jupyter) {\n",
        "    Jupyter.notebook.save_checkpoint();\n",
        "});\n",
        "'''\n",
        "# repo_name = 'iust-deep-learning-assignments'\n",
        "submission_file_name = 'nlp_asg02__%s__%s.zip'%(student_id, student_name.lower().replace(' ',  '_'))\n",
        "\n",
        "sub_info = {\n",
        "    'student_id': student_id,\n",
        "    'student_name': student_name, \n",
        "    'dateime': str(jdatetime.date.today()),\n",
        "    'asg_name': asg_name\n",
        "}\n",
        "json.dump(sub_info, open('info.json', 'w'))\n",
        "\n",
        "Javascript(script_save)\n",
        "\n",
        "auth.authenticate_user()\n",
        "gauth = GoogleAuth()\n",
        "gauth.credentials = GoogleCredentials.get_application_default()\n",
        "drive = GoogleDrive(gauth)\n",
        "file_id = drive.ListFile({'q':\"title='%s.ipynb'\"%asg_name}).GetList()[0]['id']\n",
        "downloaded = drive.CreateFile({'id': file_id})\n",
        "downloaded.GetContentFile('%s.ipynb'%asg_name) \n",
        "\n",
        "! jupyter nbconvert --to script \"$asg_name\".ipynb > /dev/null\n",
        "! jupyter nbconvert --to html \"$asg_name\".ipynb > /dev/null\n",
        "! zip \"$submission_file_name\" \"$asg_name\".ipynb \"$asg_name\".html \"$asg_name\".txt info.json > /dev/null\n",
        "\n",
        "print(\"##########################################\")\n",
        "print(\"Done! Submisson created, Please download using the bellow cell!\")"
      ],
      "metadata": {
        "id": "Qx19ikCy0OID",
        "colab": {
          "base_uri": "https://localhost:8080/"
        },
        "outputId": "5af13cef-794f-4cd0-a196-347ae13992cf"
      },
      "execution_count": null,
      "outputs": [
        {
          "output_type": "stream",
          "name": "stdout",
          "text": [
            "[NbConvertApp] Converting notebook NLP_Assignment_2.ipynb to script\n",
            "[NbConvertApp] Writing 45316 bytes to NLP_Assignment_2.txt\n",
            "[NbConvertApp] Converting notebook NLP_Assignment_2.ipynb to html\n",
            "[NbConvertApp] Writing 888937 bytes to NLP_Assignment_2.html\n",
            "##########################################\n",
            "Done! Submisson created, Please download using the bellow cell!\n"
          ]
        }
      ]
    },
    {
      "cell_type": "code",
      "source": [
        "drive.ListFile({'q':\"title='%s.ipynb'\"%asg_name}).GetList()[0]['id']"
      ],
      "metadata": {
        "id": "raiAf6xv0Ahd",
        "colab": {
          "base_uri": "https://localhost:8080/",
          "height": 35
        },
        "outputId": "a2bd3016-cb3c-4817-eaf3-0cfe41fd0f87"
      },
      "execution_count": null,
      "outputs": [
        {
          "output_type": "execute_result",
          "data": {
            "text/plain": [
              "'1BzGHlxurFt5aN9aKqvsBdcYydQxGhCaB'"
            ],
            "application/vnd.google.colaboratory.intrinsic+json": {
              "type": "string"
            }
          },
          "metadata": {},
          "execution_count": 51
        }
      ]
    },
    {
      "cell_type": "code",
      "source": [
        "files.download(submission_file_name)"
      ],
      "metadata": {
        "id": "FJcHU3RC0B8c",
        "colab": {
          "base_uri": "https://localhost:8080/",
          "height": 17
        },
        "outputId": "feeed80e-6499-4346-8d95-4909c49c3094"
      },
      "execution_count": null,
      "outputs": [
        {
          "output_type": "display_data",
          "data": {
            "text/plain": [
              "<IPython.core.display.Javascript object>"
            ],
            "application/javascript": [
              "\n",
              "    async function download(id, filename, size) {\n",
              "      if (!google.colab.kernel.accessAllowed) {\n",
              "        return;\n",
              "      }\n",
              "      const div = document.createElement('div');\n",
              "      const label = document.createElement('label');\n",
              "      label.textContent = `Downloading \"${filename}\": `;\n",
              "      div.appendChild(label);\n",
              "      const progress = document.createElement('progress');\n",
              "      progress.max = size;\n",
              "      div.appendChild(progress);\n",
              "      document.body.appendChild(div);\n",
              "\n",
              "      const buffers = [];\n",
              "      let downloaded = 0;\n",
              "\n",
              "      const channel = await google.colab.kernel.comms.open(id);\n",
              "      // Send a message to notify the kernel that we're ready.\n",
              "      channel.send({})\n",
              "\n",
              "      for await (const message of channel.messages) {\n",
              "        // Send a message to notify the kernel that we're ready.\n",
              "        channel.send({})\n",
              "        if (message.buffers) {\n",
              "          for (const buffer of message.buffers) {\n",
              "            buffers.push(buffer);\n",
              "            downloaded += buffer.byteLength;\n",
              "            progress.value = downloaded;\n",
              "          }\n",
              "        }\n",
              "      }\n",
              "      const blob = new Blob(buffers, {type: 'application/binary'});\n",
              "      const a = document.createElement('a');\n",
              "      a.href = window.URL.createObjectURL(blob);\n",
              "      a.download = filename;\n",
              "      div.appendChild(a);\n",
              "      a.click();\n",
              "      div.remove();\n",
              "    }\n",
              "  "
            ]
          },
          "metadata": {}
        },
        {
          "output_type": "display_data",
          "data": {
            "text/plain": [
              "<IPython.core.display.Javascript object>"
            ],
            "application/javascript": [
              "download(\"download_fb53b16c-1828-41f8-8a10-518c54e29cfe\", \"nlp_asg02__123124__5121312.zip\", 200992)"
            ]
          },
          "metadata": {}
        }
      ]
    }
  ]
}