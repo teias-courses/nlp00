{
  "nbformat": 4,
  "nbformat_minor": 0,
  "metadata": {
    "colab": {
      "name": "Assignment_1.ipynb",
      "provenance": [],
      "collapsed_sections": [
        "b7DvrMyLGAqm",
        "mD1MMI3SGAqo",
        "gX1QoUeXGAqo",
        "Ux2NlfxrGAqp",
        "M3E6LFR5GAqq",
        "b-RxbK1fGAqr",
        "AfPB-yj8GAqt",
        "D3syZN9FGAqu",
        "SbxjkVUPGAqw"
      ]
    },
    "kernelspec": {
      "name": "python3",
      "display_name": "Python 3"
    }
  },
  "cells": [
    {
      "cell_type": "markdown",
      "metadata": {
        "id": "8_wEtBmL1Hwk"
      },
      "source": [
        "# Assignment #01 - Word Vectors\n",
        "Deep Learning / Winter 1399, Khatam University\n",
        "\n",
        "\n",
        "\n",
        "---\n",
        "\n"
      ]
    },
    {
      "cell_type": "markdown",
      "metadata": {
        "id": "J-_PRgRX1NDO"
      },
      "source": [
        "**Please pay attention to these notes:**\n",
        "<br><br>\n",
        "\n",
        "\n",
        "\n",
        "- **Assignment Due:** <b><font color='red'>1399.12.17</font></b> 23:59:00\n",
        "- If you need any additional information, please review the assignment page on the course website.\n",
        "- The items you need to answer are highlighted in <font color=\"SeaGreen\">**bold SeaGreen**</font> and the coding parts you need to implement are denoted by:\n",
        "```\n",
        "# ------------------\n",
        "# Put your implementation here     \n",
        "# ------------------\n",
        "```\n",
        "- We always recommend co-operation and discussion in groups for assignments. However, **each student has to finish all the questions by him/herself**. If our matching system identifies any sort of copying, you'll be responsible for consequences.\n",
        "- Students who audit this course should submit their assignments like other students to be qualified for attending the rest of the sessions.\n",
        "- If you have any questions about this assignment, feel free to drop us a line. You may also post your questions on the course Microsoft Teams channel.\n",
        "- You must run this notebook on Google Colab platform, it depends on Google Colab VM for some of the depencecies.\n",
        "- You can double click on collapsed code cells to expand them.\n",
        "- <b><font color='red'>When you are ready to submit, please follow the instructions at the end of this notebook.</font></b>\n",
        "\n",
        "\n",
        "<br>\n",
        "\n"
      ]
    },
    {
      "cell_type": "markdown",
      "metadata": {
        "id": "b201HiZiw5hB"
      },
      "source": [
        "# Introduction\r\n",
        "\r\n",
        "This assignment is derived from first assignment in stanford CS224n course. Of course there are many solutions for it out there (specially for the code parts), but this is an super easy warm-up assignment and we believe that you don't need any external help to do the implementation parts."
      ]
    },
    {
      "cell_type": "markdown",
      "metadata": {
        "id": "VbiCnMom2G4k"
      },
      "source": [
        "## Word Vectors\n",
        "\n",
        "Word Vectors are often used as a fundamental component for downstream NLP tasks, e.g. question answering, text generation, translation, etc., so it is important to build some intuitions as to their strengths and weaknesses. Here, you will explore two types of word vectors: those derived from *co-occurrence matrices*, and those derived via *word2vec*. \n",
        "\n",
        "**Note on Terminology:** The terms \"word vectors\" and \"word embeddings\" are often used interchangeably. The term \"embedding\" refers to the fact that we are encoding aspects of a word's meaning in a lower dimensional space. As [Wikipedia](https://en.wikipedia.org/wiki/Word_embedding) states, \"*conceptually it involves a mathematical embedding from a space with one dimension per word to a continuous vector space with a much lower dimension*\"."
      ]
    },
    {
      "cell_type": "code",
      "metadata": {
        "id": "j93CG1Ui2G4f",
        "cellView": "form"
      },
      "source": [
        "#@title Prepare environment\n",
        "# All Import Statements Defined Here\n",
        "# Note: Do not add to this list.\n",
        "# ----------------\n",
        "!pip install fasttext\n",
        "!pip install arabic-reshaper\n",
        "!pip install python-bidi\n",
        "\n",
        "from IPython.display import clear_output\n",
        "\n",
        "import arabic_reshaper\n",
        "from bidi.algorithm import get_display\n",
        "\n",
        "import sys, os, re\n",
        "from collections import Counter\n",
        "\n",
        "from gensim.models import KeyedVectors\n",
        "from gensim.test.utils import datapath\n",
        "import pprint\n",
        "import matplotlib.pyplot as plt\n",
        "plt.rcParams['figure.figsize'] = [10, 8]\n",
        "\n",
        "import numpy as np\n",
        "import random\n",
        "import scipy as sp\n",
        "from sklearn.decomposition import TruncatedSVD\n",
        "from sklearn.decomposition import PCA\n",
        "\n",
        "START_TOKEN = '<START>'\n",
        "END_TOKEN = '<END>'\n",
        "\n",
        "np.random.seed(0)\n",
        "random.seed(0)\n",
        "\n",
        "clear_output()\n",
        "# ----------------"
      ],
      "execution_count": null,
      "outputs": []
    },
    {
      "cell_type": "markdown",
      "metadata": {
        "id": "NRd1SyoO2G4m"
      },
      "source": [
        "## Part 1: Count-Based Word Vectors\n",
        "\n",
        "Most word vector models start from the following idea:\n",
        "\n",
        "*You shall know a word by the company it keeps ([Firth, J. R. 1957:11](https://en.wikipedia.org/wiki/John_Rupert_Firth))*\n",
        "\n",
        "Many word vector implementations are driven by the idea that similar words, i.e., (near) synonyms, will be used in similar contexts. As a result, similar words will often be spoken or written along with a shared subset of words, i.e., contexts. By examining these contexts, we can try to develop embeddings for our words. With this intuition in mind, many \"old school\" approaches to constructing word vectors relied on word counts. Here we elaborate upon one of those strategies, *co-occurrence matrices* (for more information, see [here](http://web.stanford.edu/class/cs124/lec/vectorsemantics.video.pdf) or [here](https://medium.com/data-science-group-iitr/word-embedding-2d05d270b285))."
      ]
    },
    {
      "cell_type": "markdown",
      "metadata": {
        "id": "ACG2mB-x2G4p"
      },
      "source": [
        "### Co-Occurrence\n",
        "\n",
        "A co-occurrence matrix counts how often things co-occur in some environment. Given some word $w_i$ occurring in the document, we consider the *context window* surrounding $w_i$. Supposing our fixed window size is $n$, then this is the $n$ preceding and $n$ subsequent words in that document, i.e. words $w_{i-n} \\dots w_{i-1}$ and $w_{i+1} \\dots w_{i+n}$. We build a *co-occurrence matrix* $M$, which is a symmetric word-by-word matrix in which $M_{ij}$ is the number of times $w_j$ appears inside $w_i$'s window.\n",
        "\n",
        "**Example: Co-Occurrence with Fixed Window of n=1**:\n",
        "\n",
        "Document 1: \"all that glitters is not gold\"\n",
        "\n",
        "Document 2: \"all is well that ends well\"\n",
        "\n",
        "\n",
        "|          | START | all | that | glitters | is   | not  | gold  | well | ends | END |\n",
        "|----------|-------|-----|------|----------|------|------|-------|------|------|-----|\n",
        "| START    | 0     | 2   | 0    | 0        | 0    | 0    | 0     | 0    | 0    | 0   |\n",
        "| all      | 2     | 0   | 1    | 0        | 1    | 0    | 0     | 0    | 0    | 0   |\n",
        "| that     | 0     | 1   | 0    | 1        | 0    | 0    | 0     | 1    | 1    | 0   |\n",
        "| glitters | 0     | 0   | 1    | 0        | 1    | 0    | 0     | 0    | 0    | 0   |\n",
        "| is       | 0     | 1   | 0    | 1        | 0    | 1    | 0     | 1    | 0    | 0   |\n",
        "| not      | 0     | 0   | 0    | 0        | 1    | 0    | 1     | 0    | 0    | 0   |\n",
        "| gold     | 0     | 0   | 0    | 0        | 0    | 1    | 0     | 0    | 0    | 1   |\n",
        "| well     | 0     | 0   | 1    | 0        | 1    | 0    | 0     | 0    | 1    | 1   |\n",
        "| ends     | 0     | 0   | 1    | 0        | 0    | 0    | 0     | 1    | 0    | 0   |\n",
        "| END      | 0     | 0   | 0    | 0        | 0    | 0    | 1     | 1    | 0    | 0   |\n",
        "\n",
        "**Note:** In NLP, we often add START and END tokens to represent the beginning and end of sentences, paragraphs or documents. In thise case we imagine START and END tokens encapsulating each document, e.g., \"START All that glitters is not gold END\", and include these tokens in our co-occurrence counts.\n",
        "\n",
        "The rows (or columns) of this matrix provide one type of word vectors (those based on word-word co-occurrence), but the vectors will be large in general (linear in the number of distinct words in a corpus). Thus, our next step is to run *dimensionality reduction*. In particular, we will run *SVD (Singular Value Decomposition)*, which is a kind of generalized *PCA (Principal Components Analysis)* to select the top $k$ principal components. Here's a visualization of dimensionality reduction with SVD. In this picture our co-occurrence matrix is $A$ with $n$ rows corresponding to $n$ words. We obtain a full matrix decomposition, with the singular values ordered in the diagonal $S$ matrix, and our new, shorter length-$k$ word vectors in $U_k$.\n",
        "\n",
        "![Picture of an SVD](https://github.com/teias-courses/nlp99/raw/gh-pages/assets/img/svd.png)\n",
        "\n",
        "This reduced-dimensionality co-occurrence representation preserves semantic relationships between words, e.g. *doctor* and *hospital* will be closer than *doctor* and *dog*. \n",
        "\n",
        "**Notes:** If you can barely remember what an eigenvalue is, here's [a slow, friendly introduction to SVD](https://davetang.org/file/Singular_Value_Decomposition_Tutorial.pdf). If you want to learn more thoroughly about PCA or SVD, these course notes provide a great high-level treatment of these general purpose algorithms: [1](https://web.stanford.edu/class/cs168/l/l7.pdf), [2](http://theory.stanford.edu/~tim/s15/l/l8.pdf), [3](https://web.stanford.edu/class/cs168/l/l9.pdf). Though, for the purpose of this class, you only need to know how to extract the k-dimensional embeddings by utilizing pre-programmed implementations of these algorithms from the numpy, scipy, or sklearn python packages. In practice, it is challenging to apply full SVD to large corpora because of the memory needed to perform PCA or SVD. However, if you only want the top $k$ vector components for relatively small $k$ — known as *[Truncated SVD](https://en.wikipedia.org/wiki/Singular_value_decomposition#Truncated_SVD)* — then there are reasonably scalable techniques to compute those iteratively."
      ]
    },
    {
      "cell_type": "markdown",
      "metadata": {
        "id": "8tmNh9bw2G4u"
      },
      "source": [
        "### Plotting Co-Occurrence Word Embeddings\n",
        "\n",
        "Here, we will be using the [Bijankhan corpus](https://www.peykaregan.ir/dataset/%D9%BE%DB%8C%DA%A9%D8%B1%D9%87-%D8%A8%DB%8C%E2%80%8C%D8%AC%D9%86%E2%80%8C%D8%AE%D8%A7%D9%86). We provide a `read_corpus` function below that reads and processes a portion of Bijankhan corpus. The function also adds START and END tokens to each of the documents, and lowercases words. You do **not** have to perform any other kind of pre-processing."
      ]
    },
    {
      "cell_type": "code",
      "metadata": {
        "colab": {
          "base_uri": "https://localhost:8080/"
        },
        "cellView": "form",
        "id": "Y8ykcWHMdQu0",
        "outputId": "7aabc988-82da-4e35-a714-5b17b50551eb"
      },
      "source": [
        "#@title Download Bijankhan corpus\r\n",
        "!git clone https://github.com/tihu-nlp/normalized_bijankhan\r\n",
        "!7z x /content/normalized_bijankhan/bijankhan.7z\r\n",
        "clear_output()\r\n",
        "print('Done!')"
      ],
      "execution_count": null,
      "outputs": [
        {
          "output_type": "stream",
          "text": [
            "Done!\n"
          ],
          "name": "stdout"
        }
      ]
    },
    {
      "cell_type": "code",
      "metadata": {
        "colab": {
          "base_uri": "https://localhost:8080/"
        },
        "cellView": "form",
        "id": "LkG5w9SbdFMM",
        "outputId": "b6d3d368-5365-48b8-cd46-b8aa3eee2865"
      },
      "source": [
        "#@title Read corpus\r\n",
        "\r\n",
        "DATA_DIR = '/content/bijankhan.txt'\r\n",
        "\r\n",
        "def preprocess_token(token):\r\n",
        "\r\n",
        "  token = re.sub('[0-9]', '#', token)       # truncate semi-space\r\n",
        "  token = re.sub('\\u200c\\S*', '', token)       # truncate semi-space\r\n",
        "  return token.strip()\r\n",
        "\r\n",
        "def read_corpus():\r\n",
        "  punctuations = '[،.!«»؟؛()]'\r\n",
        "  with open(DATA_DIR) as txt_file:\r\n",
        "    tokens = []\r\n",
        "    for i, line in enumerate(txt_file):\r\n",
        "      if line.startswith('!') or line.startswith('#'):\r\n",
        "        if len(tokens) > 10:\r\n",
        "          yield [START_TOKEN] + tokens + [END_TOKEN]\r\n",
        "        tokens = []\r\n",
        "        continue\r\n",
        "      else:\r\n",
        "        new_token = line.partition('\\t')[0]\r\n",
        "        new_token = preprocess_token(new_token)\r\n",
        "        if new_token not in punctuations:\r\n",
        "          tokens.append(new_token)\r\n",
        "\r\n",
        "corpus = list(read_corpus())\r\n",
        "\r\n",
        "print(len(corpus), '\\tdocuments')\r\n",
        "print(sum(map(lambda t: len(t), corpus)), '\\ttokens')"
      ],
      "execution_count": null,
      "outputs": [
        {
          "output_type": "stream",
          "text": [
            "1176 \tdocuments\n",
            "266016 \ttokens\n"
          ],
          "name": "stdout"
        }
      ]
    },
    {
      "cell_type": "markdown",
      "metadata": {
        "id": "BGo-kVcz2G40"
      },
      "source": [
        "Let's have a look what these documents are like…."
      ]
    },
    {
      "cell_type": "code",
      "metadata": {
        "scrolled": false,
        "id": "GF0s4lww2G42"
      },
      "source": [
        "pprint.pprint(corpus[:2], compact=True, width=100)"
      ],
      "execution_count": null,
      "outputs": []
    },
    {
      "cell_type": "markdown",
      "metadata": {
        "id": "zFsOJC2D2G44"
      },
      "source": [
        "### Question 1.1: Implement `distinct_words` [code] (2 points)\n",
        "\n",
        "<font color=\"SeaGreen\"><b>Write a method to work out the distinct words (word types) that occur in the corpus.</b></font>\n",
        " You can do this with `for` loops, but it's more efficient to do it with Python list comprehensions. In particular, [this](https://coderwall.com/p/rcmaea/flatten-a-list-of-lists-in-one-line-in-python) may be useful to flatten a list of lists. If you're not familiar with Python list comprehensions in general, here's [more information](https://python-3-patterns-idioms-test.readthedocs.io/en/latest/Comprehensions.html).\n",
        "\n",
        "You may find it useful to use [Python sets](https://www.w3schools.com/python/python_sets.asp) to remove duplicate words."
      ]
    },
    {
      "cell_type": "code",
      "metadata": {
        "id": "XYT3Z7fR2G48"
      },
      "source": [
        "def distinct_words(corpus):\n",
        "  \"\"\" Determine a list of distinct words for the corpus.\n",
        "      Params:\n",
        "          corpus (list of list of strings): corpus of documents\n",
        "      Return:\n",
        "          corpus_words (list of strings): list of distinct words across the corpus, sorted (using python 'sorted' function)\n",
        "          num_corpus_words (integer): number of distinct words across the corpus\n",
        "  \"\"\"\n",
        "  corpus_words = []\n",
        "  num_corpus_words = -1\n",
        "  \n",
        "  # ------------------\n",
        "  # Write your implementation here.\n",
        "  # ------------------\n",
        "\n",
        "  return corpus_words, num_corpus_words"
      ],
      "execution_count": null,
      "outputs": []
    },
    {
      "cell_type": "code",
      "metadata": {
        "id": "4BU7T6_A2G4_",
        "colab": {
          "base_uri": "https://localhost:8080/"
        },
        "cellView": "form",
        "outputId": "e4a9e0cc-1aaf-430c-e134-05dce14bda8d"
      },
      "source": [
        "#@title Sanity check for Q1.1\n",
        "\n",
        "# Define toy corpus\n",
        "test_corpus = [\"START All that glitters isn't gold END\".split(\" \"), \"START All's well that ends well END\".split(\" \")]\n",
        "test_corpus_words, num_corpus_words = distinct_words(test_corpus)\n",
        "\n",
        "# Correct answers\n",
        "ans_test_corpus_words = sorted(list(set([\"START\", \"All\", \"ends\", \"that\", \"gold\", \"All's\", \"glitters\", \"isn't\", \"well\", \"END\"])))\n",
        "ans_num_corpus_words = len(ans_test_corpus_words)\n",
        "\n",
        "# Test correct number of words\n",
        "assert (num_corpus_words == ans_num_corpus_words), \"Incorrect number of distinct words. Correct: {}. Yours: {}\".format(ans_num_corpus_words, num_corpus_words)\n",
        "\n",
        "# Test correct words\n",
        "assert (test_corpus_words == ans_test_corpus_words), \"Incorrect corpus_words.\\nCorrect: {}\\nYours:   {}\".format(str(ans_test_corpus_words), str(test_corpus_words))\n",
        "\n",
        "# Print Success\n",
        "print(\"-\" * 80)\n",
        "print(\"Passed All Tests!\")\n",
        "print(\"-\" * 80)"
      ],
      "execution_count": null,
      "outputs": [
        {
          "output_type": "stream",
          "text": [
            "--------------------------------------------------------------------------------\n",
            "Passed All Tests!\n",
            "--------------------------------------------------------------------------------\n"
          ],
          "name": "stdout"
        }
      ]
    },
    {
      "cell_type": "markdown",
      "metadata": {
        "id": "SLvgUA3w2G5B"
      },
      "source": [
        "### Question 1.2: Implement `compute_co_occurrence_matrix` [code]\n",
        "\n",
        "<font color=\"SeaGreen\"><b>Write a method that constructs a co-occurrence matrix for a certain window-size $n$ (with a default of 4), considering words $n$ before and $n$ after the word in the center of the window. Here, we start to use `numpy (np)` to represent vectors, matrices, and tensors.</b></font>\n",
        "\n"
      ]
    },
    {
      "cell_type": "code",
      "metadata": {
        "id": "iS1BRtGk2G5D"
      },
      "source": [
        "def compute_co_occurrence_matrix(corpus, window_size=4):\n",
        "  \"\"\" Compute co-occurrence matrix for the given corpus and window_size (default of 4).\n",
        "\n",
        "    Note: Each word in a document should be at the center of a window. Words near edges will have a smaller\n",
        "      number of co-occurring words.\n",
        "      \n",
        "      For example, if we take the document \"START All that glitters is not gold END\" with window size of 4,\n",
        "      \"All\" will co-occur with \"START\", \"that\", \"glitters\", \"is\", and \"not\".\n",
        "\n",
        "    Params:\n",
        "      corpus (list of list of strings): corpus of documents\n",
        "      window_size (int): size of context window\n",
        "    Return:\n",
        "      M (numpy matrix of shape (number of corpus words, number of corpus words)): \n",
        "        Co-occurence matrix of word counts. \n",
        "        The ordering of the words in the rows/columns should be the same as the ordering of the words given by the distinct_words function.\n",
        "      word2Ind (dict): dictionary that maps word to index (i.e. row/column number) for matrix M.\n",
        "  \"\"\"\n",
        "  words, num_words = distinct_words(corpus)\n",
        "  M = None\n",
        "  word2Ind = dict()\n",
        "  \n",
        "  # ------------------\n",
        "  # Write your implementation here.\n",
        "  # ------------------\n",
        "\n",
        "  return M, word2Ind"
      ],
      "execution_count": null,
      "outputs": []
    },
    {
      "cell_type": "code",
      "metadata": {
        "id": "xRK67_uU2G5F",
        "colab": {
          "base_uri": "https://localhost:8080/"
        },
        "cellView": "form",
        "outputId": "87b0d725-af46-4658-ae84-5648b7d843e7"
      },
      "source": [
        "#@title Sanity check for Q1.2\n",
        "\n",
        "\n",
        "# Define toy corpus and get student's co-occurrence matrix\n",
        "test_corpus = [\"START All that glitters isn't gold END\".split(\" \"), \"START All's well that ends well END\".split(\" \")]\n",
        "M_test, word2Ind_test = compute_co_occurrence_matrix(test_corpus, window_size=1)\n",
        "\n",
        "# Correct M and word2Ind\n",
        "M_test_ans = np.array( \n",
        "    [[0., 0., 0., 1., 0., 0., 0., 0., 1., 0.,],\n",
        "     [0., 0., 0., 1., 0., 0., 0., 0., 0., 1.,],\n",
        "     [0., 0., 0., 0., 0., 0., 1., 0., 0., 1.,],\n",
        "     [1., 1., 0., 0., 0., 0., 0., 0., 0., 0.,],\n",
        "     [0., 0., 0., 0., 0., 0., 0., 0., 1., 1.,],\n",
        "     [0., 0., 0., 0., 0., 0., 0., 1., 1., 0.,],\n",
        "     [0., 0., 1., 0., 0., 0., 0., 1., 0., 0.,],\n",
        "     [0., 0., 0., 0., 0., 1., 1., 0., 0., 0.,],\n",
        "     [1., 0., 0., 0., 1., 1., 0., 0., 0., 1.,],\n",
        "     [0., 1., 1., 0., 1., 0., 0., 0., 1., 0.,]]\n",
        ")\n",
        "word2Ind_ans = {'All': 0, \"All's\": 1, 'END': 2, 'START': 3, 'ends': 4, 'glitters': 5, 'gold': 6, \"isn't\": 7, 'that': 8, 'well': 9}\n",
        "\n",
        "# Test correct word2Ind\n",
        "assert (word2Ind_ans == word2Ind_test), \"Your word2Ind is incorrect:\\nCorrect: {}\\nYours: {}\".format(word2Ind_ans, word2Ind_test)\n",
        "\n",
        "# Test correct M shape\n",
        "assert (M_test.shape == M_test_ans.shape), \"M matrix has incorrect shape.\\nCorrect: {}\\nYours: {}\".format(M_test.shape, M_test_ans.shape)\n",
        "\n",
        "# Test correct M values\n",
        "for w1 in word2Ind_ans.keys():\n",
        "  idx1 = word2Ind_ans[w1]\n",
        "  for w2 in word2Ind_ans.keys():\n",
        "    idx2 = word2Ind_ans[w2]\n",
        "    student = M_test[idx1, idx2]\n",
        "    correct = M_test_ans[idx1, idx2]\n",
        "    if student != correct:\n",
        "      print(\"Correct M:\")\n",
        "      print(M_test_ans)\n",
        "      print(\"Your M: \")\n",
        "      print(M_test)\n",
        "      raise AssertionError(\"Incorrect count at index ({}, {})=({}, {}) in matrix M. Yours has {} but should have {}.\".format(idx1, idx2, w1, w2, student, correct))\n",
        "\n",
        "# Print Success\n",
        "print (\"-\" * 80)\n",
        "print(\"Passed All Tests!\")\n",
        "print (\"-\" * 80)"
      ],
      "execution_count": null,
      "outputs": [
        {
          "output_type": "stream",
          "text": [
            "--------------------------------------------------------------------------------\n",
            "Passed All Tests!\n",
            "--------------------------------------------------------------------------------\n"
          ],
          "name": "stdout"
        }
      ]
    },
    {
      "cell_type": "markdown",
      "metadata": {
        "id": "0oVcNC1p2G5G"
      },
      "source": [
        "### Question 1.3: Implement `reduce_to_k_dim` [code]\n",
        "\n",
        "<font color=\"SeaGreen\"><b>Construct a method that performs dimensionality reduction on the matrix to produce k-dimensional embeddings. Use SVD to take the top k components and produce a new matrix of k-dimensional embeddings. </b></font>\n",
        "\n",
        "**Note:** All of numpy, scipy, and scikit-learn (`sklearn`) provide *some* implementation of SVD, but only scipy and sklearn provide an implementation of Truncated SVD, and only sklearn provides an efficient randomized algorithm for calculating large-scale Truncated SVD. So please use [sklearn.decomposition.TruncatedSVD](https://scikit-learn.org/stable/modules/generated/sklearn.decomposition.TruncatedSVD.html)."
      ]
    },
    {
      "cell_type": "code",
      "metadata": {
        "id": "Wqw3iT9x2G5H"
      },
      "source": [
        "def reduce_to_k_dim(M, k=2):\n",
        "  \"\"\" Reduce a co-occurence count matrix of dimensionality (num_corpus_words, num_corpus_words)\n",
        "    to a matrix of dimensionality (num_corpus_words, k) using the following SVD function from Scikit-Learn:\n",
        "        - http://scikit-learn.org/stable/modules/generated/sklearn.decomposition.TruncatedSVD.html\n",
        "\n",
        "    Params:\n",
        "      M (numpy matrix of shape (number of corpus words, number of corpus words)): co-occurence matrix of word counts\n",
        "      k (int): embedding size of each word after dimension reduction\n",
        "    Return:\n",
        "      M_reduced (numpy matrix of shape (number of corpus words, k)): matrix of k-dimensioal word embeddings.\n",
        "            In terms of the SVD from math class, this actually returns U * S\n",
        "  \"\"\"    \n",
        "  n_iters = 100     # Use this parameter in your call to `TruncatedSVD`\n",
        "  M_reduced = None\n",
        "  print(\"Running Truncated SVD over %i words...\" % (M.shape[0]))\n",
        "  \n",
        "  # ------------------\n",
        "  # Write your implementation here.\n",
        "  # ------------------\n",
        "\n",
        "  print(\"Done.\")\n",
        "  return M_reduced"
      ],
      "execution_count": null,
      "outputs": []
    },
    {
      "cell_type": "code",
      "metadata": {
        "id": "ydJDk80O2G5I",
        "colab": {
          "base_uri": "https://localhost:8080/"
        },
        "cellView": "form",
        "outputId": "3d45eb7c-8eab-4c92-b311-35d881bc1779"
      },
      "source": [
        "#@title Sanity check for Q1.3\n",
        "\n",
        "\n",
        "# Define toy corpus and run student code\n",
        "test_corpus = [\"START All that glitters isn't gold END\".split(\" \"), \"START All's well that ends well END\".split(\" \")]\n",
        "M_test, word2Ind_test = compute_co_occurrence_matrix(test_corpus, window_size=1)\n",
        "M_test_reduced = reduce_to_k_dim(M_test, k=2)\n",
        "\n",
        "# Test proper dimensions\n",
        "assert (M_test_reduced.shape[0] == 10), \"M_reduced has {} rows; should have {}\".format(M_test_reduced.shape[0], 10)\n",
        "assert (M_test_reduced.shape[1] == 2), \"M_reduced has {} columns; should have {}\".format(M_test_reduced.shape[1], 2)\n",
        "\n",
        "# Print Success\n",
        "print(\"-\" * 80)\n",
        "print(\"Passed All Tests!\")\n",
        "print(\"-\" * 80)"
      ],
      "execution_count": null,
      "outputs": [
        {
          "output_type": "stream",
          "text": [
            "Running Truncated SVD over 10 words...\n",
            "Done.\n",
            "--------------------------------------------------------------------------------\n",
            "Passed All Tests!\n",
            "--------------------------------------------------------------------------------\n"
          ],
          "name": "stdout"
        }
      ]
    },
    {
      "cell_type": "markdown",
      "metadata": {
        "id": "a82OO24F2G5K"
      },
      "source": [
        "### Question 1.4: Implement `plot_embeddings` [code]\n",
        "\n",
        "Here you will write a function to plot a set of 2D vectors in 2D space. \n",
        "<font color=\"SeaGreen\"><b>Plot 2D vectors for given words (scatter plot), and annotate each vector (point) with its corresponding word. To show vector distances fairly, the plot should have same scale for x, y axes.</b></font>\n",
        "\n",
        "For this example, you may find it useful to adapt [this code](https://www.pythonmembers.club/2018/05/08/matplotlib-scatter-plot-annotate-set-text-at-label-each-point/). In the future, a good way to make a plot is to look at [the Matplotlib gallery](https://matplotlib.org/gallery/index.html), find a plot that looks somewhat like what you want, and adapt the code they give."
      ]
    },
    {
      "cell_type": "code",
      "metadata": {
        "id": "yAGXgTlI2G5L"
      },
      "source": [
        "def plot_embeddings(M_reduced, word2Ind, words):\n",
        "  \"\"\" Plot in a scatterplot the embeddings of the words specified in the list \"words\".\n",
        "      NOTE: do not plot all the words listed in M_reduced / word2Ind.\n",
        "      Include a label next to each point.\n",
        "      \n",
        "      Params:\n",
        "          M_reduced (numpy matrix of shape (number of unique words in the corpus , k)): matrix of k-dimensioal word embeddings\n",
        "          word2Ind (dict): dictionary that maps word to indices for matrix M\n",
        "          words (list of strings): words whose embeddings we want to visualize\n",
        "  \"\"\"\n",
        "\n",
        "  # ------------------\n",
        "  # Write your implementation here.\n",
        "  # ------------------\n",
        "\n",
        "plot_embeddings(M_test_reduced, word2Ind_test, ['All', 'ends', 'well', 'that', 'gold'])"
      ],
      "execution_count": null,
      "outputs": []
    },
    {
      "cell_type": "markdown",
      "metadata": {
        "id": "owOC2PMP2G5Q"
      },
      "source": [
        "### Question 1.5: Co-Occurrence Plot Analysis [written]\n",
        "\n",
        "Now we will put together all the parts you have written! We will compute the co-occurrence matrix with fixed window of 4, over the Bijankhan corpus. Then we will use TruncatedSVD to compute 2-dimensional embeddings of each word. TruncatedSVD returns U\\*S, so we normalize the returned vectors, so that all the vectors will appear around the unit circle (**therefore closeness is directional closeness**). \n",
        "\n",
        "Run the below cell to produce the plot. It'll probably take a few seconds to run. \n",
        "\n",
        "<font color=\"SeaGreen\"><b>What clusters together in 2-dimensional embedding space? What doesn't cluster together that you might think should have?\n",
        "</b></font>"
      ]
    },
    {
      "cell_type": "code",
      "metadata": {
        "id": "2B5hg0x62G5R",
        "colab": {
          "base_uri": "https://localhost:8080/"
        },
        "outputId": "5a7a7d6a-03c8-46d9-ade6-03419711280d"
      },
      "source": [
        "#@title Compute normalized 2D word vectors\n",
        "\n",
        "corpus = list(read_corpus())\n",
        "M_co_occurrence, word2Ind_co_occurrence = compute_co_occurrence_matrix(corpus)\n",
        "M_reduced_co_occurrence = reduce_to_k_dim(M_co_occurrence, k=2)\n",
        "\n",
        "# Rescale (normalize) the rows to make them each of unit-length\n",
        "M_lengths = np.linalg.norm(M_reduced_co_occurrence, axis=1)\n",
        "M_normalized = M_reduced_co_occurrence / M_lengths[:, np.newaxis] # broadcasting"
      ],
      "execution_count": null,
      "outputs": [
        {
          "output_type": "stream",
          "text": [
            "Running Truncated SVD over 17151 words...\n",
            "Done.\n"
          ],
          "name": "stdout"
        }
      ]
    },
    {
      "cell_type": "code",
      "metadata": {
        "id": "35vmjEa5TSpt"
      },
      "source": [
        "words = ['خوزستان', 'آلمان', 'نفت', 'عربستان', 'عراق',\r\n",
        "         'ایتالیا', 'بنزین', 'شعر', 'کویت', 'معادن', 'یونان',\r\n",
        "         'صنعت', 'ادبیات', 'خراسان', 'شیراز']\r\n",
        "plot_embeddings(M_normalized, word2Ind_co_occurrence, words)"
      ],
      "execution_count": null,
      "outputs": []
    },
    {
      "cell_type": "markdown",
      "metadata": {
        "id": "PjDn2M2Y2G5S"
      },
      "source": [
        "#### <font color=\"red\">Write your answer here.</font>"
      ]
    },
    {
      "cell_type": "markdown",
      "metadata": {
        "id": "2TOgNCV6OAll"
      },
      "source": [
        "#Part 2 - Prediction-Based Word Vectors"
      ]
    },
    {
      "cell_type": "code",
      "metadata": {
        "id": "kGrEvu_5OEN8",
        "cellView": "form"
      },
      "source": [
        "#@title Download the Persian model\r\n",
        "\r\n",
        "!gdown https://drive.google.com/uc?id=1blEFKa9253O4HM9J58SCzN7_RSoC-bhA\r\n",
        "\r\n",
        "clear_output()\r\n",
        "print (\"Done!\")"
      ],
      "execution_count": null,
      "outputs": []
    },
    {
      "cell_type": "code",
      "metadata": {
        "id": "-_LIRZ8ePLfc",
        "cellView": "form"
      },
      "source": [
        "#@title Load the persian model\r\n",
        "import fasttext\r\n",
        "\r\n",
        "ft = fasttext.load_model('cc.fa.100.bin')\r\n",
        "\r\n",
        "clear_output()\r\n",
        "print (\"Done!\")"
      ],
      "execution_count": null,
      "outputs": []
    },
    {
      "cell_type": "code",
      "metadata": {
        "id": "jePHqz5QLLvT",
        "cellView": "form"
      },
      "source": [
        "#@title Reduce dims\r\n",
        "\r\n",
        "from sklearn.decomposition import PCA\r\n",
        "\r\n",
        "def reduce_dims(X, k=2):\r\n",
        "  pca = PCA(n_components=2)\r\n",
        "  pca.fit(X)\r\n",
        "  return pca.transform(X)"
      ],
      "execution_count": null,
      "outputs": []
    },
    {
      "cell_type": "code",
      "metadata": {
        "id": "TJ_AWbUlMJhz",
        "cellView": "form"
      },
      "source": [
        "#@title plot points\r\n",
        "\r\n",
        "import matplotlib.pyplot as plt\r\n",
        "from bidi.algorithm import get_display\r\n",
        "import matplotlib.pyplot as plt\r\n",
        "import arabic_reshaper\r\n",
        "\r\n",
        "def plot_points(P, labels):\r\n",
        "  fig, ax = plt.subplots(figsize=(6, 6))\r\n",
        "  ax.plot(P[:,0], P[:,1], \"b.\")\r\n",
        "  for i, txt in enumerate(labels):\r\n",
        "    reshaped_text = arabic_reshaper.reshape(txt)\r\n",
        "    fatext = get_display(reshaped_text)\r\n",
        "\r\n",
        "    ax.annotate(fatext, (P[i,0], P[i,1]), fontsize=14)\r\n",
        "\r\n",
        "  plt.axis('off')\r\n",
        "  plt.show()"
      ],
      "execution_count": null,
      "outputs": []
    },
    {
      "cell_type": "markdown",
      "metadata": {
        "id": "b7DvrMyLGAqm"
      },
      "source": [
        "### Question 2.1: Word2Vec Plot Analysis \n",
        "Run the cell below to plot the 2D word2vec embeddings for: \n",
        "\n",
        "`['سوئد', 'موز', 'انرژی', 'صنعت', 'کویت', 'نفت', 'سیب', 'بنزین', 'ایران']`.\n",
        "\n",
        "<font color=\"SeaGreen\"><b>What clusters together in 2-dimensional embedding space? What doesn't cluster together that you might think should have? How is the plot different from the one generated earlier from the co-occurrence matrix?</font></b>"
      ]
    },
    {
      "cell_type": "code",
      "metadata": {
        "id": "ByQR_7fvGAqm"
      },
      "source": [
        "import numpy as np\n",
        "words = ['سوئد', 'موز', 'انرژی', 'صنعت', 'کویت', 'نفت', 'سیب', 'بنزین', 'ایران']\n",
        "vectors = []\n",
        "for word in words:\n",
        "  vectors.append(ft.get_word_vector(word))\n",
        "reduced_vectors = reduce_dims(np.array(vectors))\n",
        "\n",
        "plot_points(reduced_vectors, words)"
      ],
      "execution_count": null,
      "outputs": []
    },
    {
      "cell_type": "markdown",
      "metadata": {
        "id": "C4G7kRxkGAqn"
      },
      "source": [
        "#### <font color=\"red\">Write your answer here.</font>"
      ]
    },
    {
      "cell_type": "markdown",
      "metadata": {
        "id": "mD1MMI3SGAqo"
      },
      "source": [
        "### Question 2.2: Polysemous Words \n",
        "<font color=\"SeaGreen\"><b>Find a [polysemous](https://en.wikipedia.org/wiki/Polysemy) word (for example, \"شیر\") such that the top-10 most similar words (according to cosine similarity) contains related words from *both* meanings. You will probably need to try several polysemous words before you find one. Please state the polysemous word you discover and the multiple meanings that occur in the top 10. Why do you think many of the polysemous words you tried didn't work?</font></b>\n",
        "\n",
        "**Note**: You should use the `ft.get_nearest_neighbors(word)` function to get the top 10 similar words. This function ranks all other words in the vocabulary with respect to their cosine similarity to the given word."
      ]
    },
    {
      "cell_type": "code",
      "metadata": {
        "id": "hV1h6_XVGAqo"
      },
      "source": [
        "# ------------------\n",
        "# Write your polysemous word exploration code here.\n",
        "# ------------------"
      ],
      "execution_count": null,
      "outputs": []
    },
    {
      "cell_type": "markdown",
      "metadata": {
        "id": "lKBENngrGAqo"
      },
      "source": [
        "#### <font color=\"red\">Write your answer here.</font>"
      ]
    },
    {
      "cell_type": "markdown",
      "metadata": {
        "id": "gX1QoUeXGAqo"
      },
      "source": [
        "### Question 2.3: Synonyms & Antonyms \n",
        "When considering Cosine Similarity, it's often more convenient to think of Cosine Distance, which is simply 1 - Cosine Similarity.\n",
        "\n",
        "<font color=\"SeaGreen\"><b>Find three words (w1,w2,w3) where w1 and w2 are synonyms and w1 and w3 are antonyms, but Cosine Distance(w1,w3) < Cosine Distance(w1,w2). For example, w1=\"شاد\" is closer to w3=\"غمگین\" than to w2=\"خوشحال\". \n",
        "\n",
        "Once you have found your example, please give a possible explanation for why this counter-intuitive result may have happened.</font></b>\n",
        "\n",
        "You should use the the `sklearn.metrics.pairwise.cosine_similarity` function here in order to compute the cosine distance between two words. Please see the __[sklearn documentation](https://scikit-learn.org/stable/modules/metrics.html#cosine-similarity)__ for further assistance."
      ]
    },
    {
      "cell_type": "code",
      "metadata": {
        "id": "6-TQAh1rGAqp"
      },
      "source": [
        "from sklearn.metrics.pairwise import cosine_similarity\n",
        "\n",
        "# ------------------\n",
        "# Write your synonym & antonym exploration code here.\n",
        "# ------------------"
      ],
      "execution_count": null,
      "outputs": []
    },
    {
      "cell_type": "markdown",
      "metadata": {
        "id": "LHn7mjevGAqp"
      },
      "source": [
        "#### <font color=\"red\">Write your answer here.</font>"
      ]
    },
    {
      "cell_type": "markdown",
      "metadata": {
        "id": "Ux2NlfxrGAqp"
      },
      "source": [
        "### Solving Analogies with Word Vectors\n",
        "Word2Vec vectors have been shown to *sometimes* exhibit the ability to solve analogies. \n",
        "\n",
        "As an example, for the analogy \n",
        "\n",
        "شاه : مرد --> ملکه : ؟\n",
        "\n",
        "The answer would be \"زن\" or similar words.\n",
        "In the cell below, we show you how to use word vectors to find x. The `get_analogies` function finds words that are most similar to the vector of `wordA - wordB + wordC`. The answer to the analogy will be the word ranked most similar (largest numerical value)."
      ]
    },
    {
      "cell_type": "code",
      "metadata": {
        "id": "ZvzwmCbKGAqq"
      },
      "source": [
        "# Run this cell to answer the analogy\n",
        "\n",
        "ft.get_analogies(wordA=\"مرد\",\n",
        "                 wordB=\"شاه\",\n",
        "                 wordC=\"ملکه\", \n",
        "                 k=1)"
      ],
      "execution_count": null,
      "outputs": []
    },
    {
      "cell_type": "markdown",
      "metadata": {
        "id": "M3E6LFR5GAqq"
      },
      "source": [
        "### Question 2.4: Finding Analogies \n",
        "<font color=\"SeaGreen\"><b>Find an example of analogy that holds according to these vectors (i.e. the intended word is ranked top). In your solution please state the full analogy in the form x:y :: a:b. If you believe the analogy is complicated, explain why the analogy holds in one or two sentences.</font></b>\n",
        "\n",
        "**Note**: You may have to try many analogies to find one that works!"
      ]
    },
    {
      "cell_type": "code",
      "metadata": {
        "id": "MnOhUZ1ZGAqr"
      },
      "source": [
        "# ------------------\n",
        "# Write your analogy exploration code here.\n",
        "# ------------------"
      ],
      "execution_count": null,
      "outputs": []
    },
    {
      "cell_type": "markdown",
      "metadata": {
        "id": "Xm8vy71gGAqr"
      },
      "source": [
        "#### <font color=\"red\">Write your answer here.</font>"
      ]
    },
    {
      "cell_type": "markdown",
      "metadata": {
        "id": "b-RxbK1fGAqr"
      },
      "source": [
        "### Question 2.5: Incorrect Analogy \n",
        "<font color=\"SeaGreen\"><b>Find an example of analogy that does *not* hold according to these vectors. In your solution, state the intended analogy in the form x:y :: a:b, and state the (incorrect) value of b according to the word vectors.</font></b>"
      ]
    },
    {
      "cell_type": "code",
      "metadata": {
        "id": "_c6FmfU8GAqs",
        "colab": {
          "base_uri": "https://localhost:8080/"
        },
        "outputId": "577aa16e-5f86-458a-d0a1-67e447cf76bf"
      },
      "source": [
        "# ------------------\n",
        "# Write your incorrect analogy exploration code here.\n",
        "# ------------------"
      ],
      "execution_count": null,
      "outputs": [
        {
          "output_type": "execute_result",
          "data": {
            "text/plain": [
              "[(0.6603483557701111, 'پلچرخی')]"
            ]
          },
          "metadata": {
            "tags": []
          },
          "execution_count": 85
        }
      ]
    },
    {
      "cell_type": "markdown",
      "metadata": {
        "id": "ns4fmNJZGAqt"
      },
      "source": [
        "#### <font color=\"red\">Write your answer here.</font>"
      ]
    },
    {
      "cell_type": "markdown",
      "metadata": {
        "id": "AfPB-yj8GAqt"
      },
      "source": [
        "### Question 2.6: Guided Analysis of Bias in Word Vectors \n",
        "\n",
        "It's important to be cognizant of the biases (gender, race, sexual orientation etc.) implicit to our word embeddings.\n",
        "\n",
        "<font color=\"SeaGreen\"><b>Run the cell below, to examine wether the word \"مرد\" is closer to word \"رییس\" or \"زن\"? \n",
        "\n",
        "Explain your observations:</font></b>"
      ]
    },
    {
      "cell_type": "code",
      "metadata": {
        "id": "D2XXbe_TGAqt",
        "colab": {
          "base_uri": "https://localhost:8080/"
        },
        "outputId": "772db933-40f9-49b0-a68f-9aff2be539ad"
      },
      "source": [
        "# Run this cell\n",
        "\n",
        "w1 = \"رییس\"\n",
        "w2 = \"مرد\"\n",
        "w3 = \"زن\"\n",
        "\n",
        "w1_vec = ft.get_word_vector(w1)\n",
        "w2_vec = ft.get_word_vector(w2)\n",
        "w3_vec = ft.get_word_vector(w3)\n",
        "\n",
        "w1_w2_dist = 1-cosine_similarity([w1_vec], [w2_vec])\n",
        "w1_w3_dist = 1-cosine_similarity([w1_vec], [w3_vec])\n",
        "\n",
        "print(\"{}, {} have cosine distance: {}\".format(w1, w2, w1_w2_dist[0][0]))\n",
        "print(\"{}, {} have cosine distance: {}\".format(w1, w3, w1_w3_dist[0][0]))\n"
      ],
      "execution_count": null,
      "outputs": [
        {
          "output_type": "stream",
          "text": [
            "رییس, مرد have cosine distance: 0.714638352394104\n",
            "رییس, زن have cosine distance: 0.9129302501678467\n"
          ],
          "name": "stdout"
        }
      ]
    },
    {
      "cell_type": "markdown",
      "metadata": {
        "id": "MrwySrMIGAqu"
      },
      "source": [
        "#### <font color=\"red\">Write your answer here.</font>"
      ]
    },
    {
      "cell_type": "markdown",
      "metadata": {
        "id": "D3syZN9FGAqu"
      },
      "source": [
        "### Question 2.7: Independent Analysis of Bias in Word Vectors\n",
        "\n",
        "<font color=\"SeaGreen\"><b>Use the method above to find another case where some bias is exhibited by the vectors. Please briefly explain the example of bias that you discover.</font></b>"
      ]
    },
    {
      "cell_type": "code",
      "metadata": {
        "id": "z61IJEG7GAqu"
      },
      "source": [
        "# ------------------\n",
        "# Write your bias exploration code here.\n",
        "# ------------------"
      ],
      "execution_count": null,
      "outputs": []
    },
    {
      "cell_type": "markdown",
      "metadata": {
        "id": "HwBEDUqLGAqu"
      },
      "source": [
        "#### <font color=\"red\">Write your answer here.</font>"
      ]
    },
    {
      "cell_type": "markdown",
      "metadata": {
        "id": "SbxjkVUPGAqw"
      },
      "source": [
        "### Question 2.8: Thinking About Bias\n",
        "\n",
        "<font color=\"SeaGreen\"><b>What might be the cause of these biases in the word vectors?</font></b>"
      ]
    },
    {
      "cell_type": "markdown",
      "metadata": {
        "id": "zBu32qixGAqw"
      },
      "source": [
        "#### <font color=\"red\">Write your answer here.</font>"
      ]
    },
    {
      "cell_type": "markdown",
      "metadata": {
        "id": "HWRra63i2oFS"
      },
      "source": [
        "# Submission"
      ]
    },
    {
      "cell_type": "markdown",
      "metadata": {
        "id": "BQ6iRsAn2rlE"
      },
      "source": [
        "Congratulations! You finished the assignment & you're ready to submit your work. Please follow the instructions:\n",
        "\n",
        "1. Check and review your answers. Make sure all of the cell outputs are what you want. \n",
        "2. Select File > Save.\n",
        "3. **Fill your information** & run the cell bellow.\n",
        "4. Run **Make Submission** cell, It may take several minutes and it may ask you for your credential.\n",
        "5. Run **Download Submission** cell to obtain your submission as a zip file.\n",
        "6. Grab the downloaded file (`dl_asg01__xx__xx.zip`) and hand it over in microsoft teams."
      ]
    },
    {
      "cell_type": "markdown",
      "metadata": {
        "id": "lL9OYI1C1wRq"
      },
      "source": [
        "## Fill your information (Run the cell)"
      ]
    },
    {
      "cell_type": "code",
      "metadata": {
        "id": "ra5wTxj62CWc",
        "cellView": "form"
      },
      "source": [
        "#@title Enter your information & \"RUN the cell!!\" { run: \"auto\" }\n",
        "student_id = \"\" #@param {type:\"string\"}\n",
        "student_name = \"\" #@param {type:\"string\"}\n",
        "\n",
        "print(\"your student id:\", student_id)\n",
        "print(\"your name:\", student_name)\n",
        "\n",
        "\n",
        "from pathlib import Path\n",
        "\n",
        "ASSIGNMENT_PATH = Path('asg01')\n",
        "ASSIGNMENT_PATH.mkdir(parents=True, exist_ok=True)"
      ],
      "execution_count": null,
      "outputs": []
    },
    {
      "cell_type": "markdown",
      "metadata": {
        "id": "OFYJJJhh3kpj"
      },
      "source": [
        "## Make Submission (Run the cell)"
      ]
    },
    {
      "cell_type": "code",
      "metadata": {
        "id": "cBQc5tBQ2sFJ",
        "cellView": "form"
      },
      "source": [
        "#@title Make submission\n",
        "! pip install -U --quiet PyDrive > /dev/null\n",
        "! pip install -U --quiet jdatetime > /dev/null\n",
        "\n",
        "# ! wget -q https://github.com/github/hub/releases/download/v2.10.0/hub-linux-amd64-2.10.0.tgz \n",
        "\n",
        "\n",
        "import os\n",
        "import time\n",
        "import yaml\n",
        "import json\n",
        "import jdatetime\n",
        "\n",
        "from google.colab import files\n",
        "from IPython.display import Javascript\n",
        "from pydrive.auth import GoogleAuth\n",
        "from pydrive.drive import GoogleDrive\n",
        "from google.colab import auth\n",
        "from oauth2client.client import GoogleCredentials\n",
        "\n",
        "asg_name = 'Assignment_1'\n",
        "script_save = '''\n",
        "require([\"base/js/namespace\"],function(Jupyter) {\n",
        "    Jupyter.notebook.save_checkpoint();\n",
        "});\n",
        "'''\n",
        "# repo_name = 'iust-deep-learning-assignments'\n",
        "submission_file_name = 'dl_asg01__%s__%s.zip'%(student_id, student_name.lower().replace(' ',  '_'))\n",
        "\n",
        "sub_info = {\n",
        "    'student_id': student_id,\n",
        "    'student_name': student_name, \n",
        "    'dateime': str(jdatetime.date.today()),\n",
        "    'asg_name': asg_name\n",
        "}\n",
        "json.dump(sub_info, open('info.json', 'w'))\n",
        "\n",
        "Javascript(script_save)\n",
        "\n",
        "auth.authenticate_user()\n",
        "gauth = GoogleAuth()\n",
        "gauth.credentials = GoogleCredentials.get_application_default()\n",
        "drive = GoogleDrive(gauth)\n",
        "file_id = drive.ListFile({'q':\"title='%s.ipynb'\"%asg_name}).GetList()[0]['id']\n",
        "downloaded = drive.CreateFile({'id': file_id})\n",
        "downloaded.GetContentFile('%s.ipynb'%asg_name) \n",
        "\n",
        "! jupyter nbconvert --to script \"$asg_name\".ipynb > /dev/null\n",
        "! jupyter nbconvert --to html \"$asg_name\".ipynb > /dev/null\n",
        "! zip \"$submission_file_name\" \"$asg_name\".ipynb \"$asg_name\".html \"$asg_name\".txt info.json > /dev/null\n",
        "\n",
        "print(\"##########################################\")\n",
        "print(\"Done! Submisson created, Please download using the bellow cell!\")"
      ],
      "execution_count": null,
      "outputs": []
    },
    {
      "cell_type": "code",
      "metadata": {
        "id": "x3n3JS51xqUo"
      },
      "source": [
        "drive.ListFile({'q':\"title='%s.ipynb'\"%asg_name}).GetList()[0]['id']"
      ],
      "execution_count": null,
      "outputs": []
    },
    {
      "cell_type": "code",
      "metadata": {
        "id": "RclPk2VM30Qa"
      },
      "source": [
        "files.download(submission_file_name)"
      ],
      "execution_count": null,
      "outputs": []
    }
  ]
}